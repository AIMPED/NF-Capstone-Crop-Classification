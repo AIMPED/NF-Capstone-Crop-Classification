{
 "cells": [
  {
   "cell_type": "markdown",
   "id": "ff19c95a",
   "metadata": {},
   "source": [
    "# Data preparation\n",
    "\n",
    "This notebook we process the satellite photos from the `Radiant Earth Spot the Crop Challenge` to transform the data to a format that is easier to handle.\n",
    "\n",
    "The images were download in the previous notebook `0. Download.ipynb` and it is the starting point for this Notebook.\n",
    "This are the libraries that we will need:"
   ]
  },
  {
   "cell_type": "code",
   "execution_count": 48,
   "id": "daf04860",
   "metadata": {},
   "outputs": [],
   "source": [
    "import datetime\n",
    "import rasterio\n",
    "import numpy as np\n",
    "import pandas as pd\n",
    "import geopandas as gpd"
   ]
  },
  {
   "cell_type": "markdown",
   "id": "7b19170d",
   "metadata": {},
   "source": [
    "## 1. List of assets from Radiant MLHub\n",
    "\n",
    "\n",
    "The Radiant MLHub API gives access to open Earth imagery training data for machine learning applications. You can learn more about the repository at the [Radiant MLHub site](https://mlhub.earth) and about the organization behind it at the [Radiant Earth Foundation site](https://radiant.earth).\n",
    "\n",
    "Full documentation for the API is available at [docs.mlhub.earth](docs.mlhub.earth).\n",
    "\n",
    "Each item in our collection is explained in json format compliant with [STAC](https://stacspec.org/) [label extension](https://github.com/radiantearth/stac-spec/tree/master/extensions/label) definition.\n",
    "\n",
    "We create a DataFrame that sumarizes all the different assets."
   ]
  },
  {
   "cell_type": "code",
   "execution_count": 49,
   "id": "b18f120b",
   "metadata": {},
   "outputs": [],
   "source": [
    "import importlib\n",
    "import create_asset_files as crass\n",
    "importlib.reload(crass)\n",
    "\n",
    "labels_path = {\"train\": 'ref_south_africa_crops_competition_v1_train_labels',\n",
    "              \"test\": 'ref_south_africa_crops_competition_v1_test_labels'}"
   ]
  },
  {
   "cell_type": "code",
   "execution_count": null,
   "id": "dd543d56",
   "metadata": {},
   "outputs": [],
   "source": [
    "# creating asset collection for the train set\n",
    "case = \"train\"\n",
    "assets_train_df = crass.create_assets(labels_path[case])\n",
    "\n",
    "assets_train_df.datetime = pd.to_datetime(assets_train_df.datetime)\n",
    "assets_train_df = assets_train_df.assign(\n",
    "    date = lambda x: x['datetime'].dt.date,\n",
    "    month = lambda x: x['datetime'].dt.month.astype('Int64'),\n",
    "    dayofyear = lambda x: x['datetime'].dt.dayofyear.astype('Int64'),\n",
    ")\n",
    "\n",
    "assets_train_df.tile_id = assets_train_df.tile_id.astype(int)\n",
    "assets_train_df.to_csv(f\"data/assets_{case}.csv\", index = False)\n",
    "print(f\"assets_{case}.csv was saved in /data\")\n",
    "assets_train_df.head()"
   ]
  },
  {
   "cell_type": "code",
   "execution_count": 41,
   "id": "eb5a8af0",
   "metadata": {},
   "outputs": [
    {
     "name": "stdout",
     "output_type": "stream",
     "text": [
      "Procesing 1137 of 1137\n",
      "assets_test.csv was saved in /data\n"
     ]
    }
   ],
   "source": [
    "# creating asset collection for the test set\n",
    "case = \"test\"\n",
    "assets_test_df = create_assets(labels_path[case])\n",
    "\n",
    "assets_test_df.datetime = pd.to_datetime(assets_test_df.datetime)\n",
    "assets_test_df = assets_test_df.assign(\n",
    "    date = lambda x: x['datetime'].dt.date,\n",
    "    month = lambda x: x['datetime'].dt.month.astype('Int64'),\n",
    "    dayofyear = lambda x: x['datetime'].dt.dayofyear.astype('Int64'),\n",
    ")\n",
    "\n",
    "assets_test_df.tile_id = assets_test_df.tile_id.astype(int)\n",
    "assets_test_df.to_csv(f\"data/assets_{case}.csv\", index = False)\n",
    "print(f\"assets_{case}.csv was saved in /data\")\n",
    "assets_test_df.head()"
   ]
  },
  {
   "cell_type": "markdown",
   "id": "4f5a6440",
   "metadata": {},
   "source": [
    "## 2. Fields DataFrame"
   ]
  },
  {
   "cell_type": "markdown",
   "id": "a71a8a18",
   "metadata": {},
   "source": [
    "Now we want to generate a dataframe containing the inforatio of all the different fields."
   ]
  },
  {
   "cell_type": "code",
   "execution_count": 11,
   "id": "86f0e1db",
   "metadata": {},
   "outputs": [
    {
     "name": "stdout",
     "output_type": "stream",
     "text": [
      "Tile Nr. 2650 of total 2650\n"
     ]
    }
   ],
   "source": [
    "assets_train_df = pd.read_csv('data/assets_train.csv')\n",
    "fields_train = crass.create_field_list_train(assets_train_df)\n",
    "fields_train.head()"
   ]
  },
  {
   "cell_type": "code",
   "execution_count": 287,
   "id": "a6441141",
   "metadata": {},
   "outputs": [
    {
     "name": "stdout",
     "output_type": "stream",
     "text": [
      "Tile Nr. 1137 of total 1137\n"
     ]
    },
    {
     "data": {
      "text/html": [
       "<div>\n",
       "<style scoped>\n",
       "    .dataframe tbody tr th:only-of-type {\n",
       "        vertical-align: middle;\n",
       "    }\n",
       "\n",
       "    .dataframe tbody tr th {\n",
       "        vertical-align: top;\n",
       "    }\n",
       "\n",
       "    .dataframe thead th {\n",
       "        text-align: right;\n",
       "    }\n",
       "</style>\n",
       "<table border=\"1\" class=\"dataframe\">\n",
       "  <thead>\n",
       "    <tr style=\"text-align: right;\">\n",
       "      <th></th>\n",
       "      <th>geometry</th>\n",
       "      <th>field_id</th>\n",
       "      <th>tile_id</th>\n",
       "      <th>field_area_km2</th>\n",
       "    </tr>\n",
       "  </thead>\n",
       "  <tbody>\n",
       "    <tr>\n",
       "      <th>0</th>\n",
       "      <td>POLYGON ((18.13951 -33.00683, 18.13950 -33.007...</td>\n",
       "      <td>62027</td>\n",
       "      <td>590</td>\n",
       "      <td>0.037301</td>\n",
       "    </tr>\n",
       "    <tr>\n",
       "      <th>1</th>\n",
       "      <td>POLYGON ((18.14625 -33.00699, 18.14624 -33.007...</td>\n",
       "      <td>62071</td>\n",
       "      <td>590</td>\n",
       "      <td>0.050804</td>\n",
       "    </tr>\n",
       "    <tr>\n",
       "      <th>2</th>\n",
       "      <td>POLYGON ((18.14045 -33.00757, 18.14044 -33.007...</td>\n",
       "      <td>85373</td>\n",
       "      <td>590</td>\n",
       "      <td>0.022991</td>\n",
       "    </tr>\n",
       "    <tr>\n",
       "      <th>3</th>\n",
       "      <td>POLYGON ((18.13053 -33.00662, 18.13052 -33.006...</td>\n",
       "      <td>102896</td>\n",
       "      <td>590</td>\n",
       "      <td>0.281303</td>\n",
       "    </tr>\n",
       "    <tr>\n",
       "      <th>4</th>\n",
       "      <td>POLYGON ((18.14654 -33.00771, 18.14654 -33.007...</td>\n",
       "      <td>3079</td>\n",
       "      <td>590</td>\n",
       "      <td>0.139693</td>\n",
       "    </tr>\n",
       "  </tbody>\n",
       "</table>\n",
       "</div>"
      ],
      "text/plain": [
       "                                            geometry  field_id  tile_id  \\\n",
       "0  POLYGON ((18.13951 -33.00683, 18.13950 -33.007...     62027      590   \n",
       "1  POLYGON ((18.14625 -33.00699, 18.14624 -33.007...     62071      590   \n",
       "2  POLYGON ((18.14045 -33.00757, 18.14044 -33.007...     85373      590   \n",
       "3  POLYGON ((18.13053 -33.00662, 18.13052 -33.006...    102896      590   \n",
       "4  POLYGON ((18.14654 -33.00771, 18.14654 -33.007...      3079      590   \n",
       "\n",
       "   field_area_km2  \n",
       "0        0.037301  \n",
       "1        0.050804  \n",
       "2        0.022991  \n",
       "3        0.281303  \n",
       "4        0.139693  "
      ]
     },
     "execution_count": 287,
     "metadata": {},
     "output_type": "execute_result"
    }
   ],
   "source": [
    "assets_test_df = pd.read_csv('data/assets_test.csv')\n",
    "fields_test = crass.create_field_list_test(assets_test_df)\n",
    "fields_test.head()"
   ]
  },
  {
   "cell_type": "markdown",
   "id": "1f0497c6",
   "metadata": {},
   "source": [
    "Some fields with 0 label and 0 field_id are present, they seem to be very small, so we will drop them from the list"
   ]
  },
  {
   "cell_type": "code",
   "execution_count": 17,
   "id": "e6fea276",
   "metadata": {},
   "outputs": [],
   "source": [
    "fields_train = crass.remove_dupl_fields(fields_train)"
   ]
  },
  {
   "cell_type": "code",
   "execution_count": 289,
   "id": "62a6d973",
   "metadata": {},
   "outputs": [],
   "source": [
    "fields_test = crass.remove_dupl_fields(fields_test)"
   ]
  },
  {
   "cell_type": "markdown",
   "id": "000d6c12",
   "metadata": {},
   "source": [
    "We also add another column with the fields elevation over the sea in m."
   ]
  },
  {
   "cell_type": "code",
   "execution_count": null,
   "id": "36e42cfe",
   "metadata": {},
   "outputs": [],
   "source": [
    "crass.download_elevation(fields_train)"
   ]
  },
  {
   "cell_type": "code",
   "execution_count": 40,
   "id": "a1e40e22",
   "metadata": {},
   "outputs": [],
   "source": [
    "elev_src = rasterio.open('/home/jupyter/NF-Capstone-Crop-Classification/data/elev_merged.tif')\n",
    "elev_read = elev_src.read()"
   ]
  },
  {
   "cell_type": "markdown",
   "id": "6fe88826",
   "metadata": {},
   "source": [
    "We can save the DataFrame after that"
   ]
  },
  {
   "cell_type": "code",
   "execution_count": null,
   "id": "67da2893",
   "metadata": {},
   "outputs": [],
   "source": [
    "fields_train['elevation'] = fields_train.geometry.apply(crass.get_elev, args=(elev_src, elev_read, ))\n",
    "fields_train.to_file('data/fields_train.geojson', driver='GeoJSON')"
   ]
  },
  {
   "cell_type": "code",
   "execution_count": 294,
   "id": "22b83a41",
   "metadata": {},
   "outputs": [],
   "source": [
    "fields_test['elevation'] = fields_test.geometry.apply(crass.get_elev, args=(elev_src, elev_read, ))\n",
    "fields_test.to_file('data/fields_test.geojson', driver='GeoJSON')"
   ]
  },
  {
   "cell_type": "markdown",
   "id": "ef104a1e",
   "metadata": {},
   "source": [
    "## 3. Tile DataFrame"
   ]
  },
  {
   "cell_type": "markdown",
   "id": "f4d3ddd6",
   "metadata": {},
   "source": [
    "Now we want to extract all the information regarding the Tiles.\n",
    "\n",
    "First, we check which days the images contain clouds."
   ]
  },
  {
   "cell_type": "code",
   "execution_count": 3,
   "id": "681571a2",
   "metadata": {},
   "outputs": [],
   "source": [
    "fields_train = gpd.read_file('data/fields_train.geojson')\n",
    "fields_test = gpd.read_file('data/fields_test.geojson')"
   ]
  },
  {
   "cell_type": "code",
   "execution_count": 4,
   "id": "7f0d2a15",
   "metadata": {},
   "outputs": [],
   "source": [
    "assets_train_df = pd.read_csv('data/assets_train.csv')\n",
    "assets_test_df = pd.read_csv('data/assets_test.csv')"
   ]
  },
  {
   "cell_type": "code",
   "execution_count": 7,
   "id": "1745ef41",
   "metadata": {},
   "outputs": [
    {
     "data": {
      "text/plain": [
       "<module 'tile_utils' from '/home/jupyter/NF-Capstone-Crop-Classification/tile_utils.py'>"
      ]
     },
     "execution_count": 7,
     "metadata": {},
     "output_type": "execute_result"
    }
   ],
   "source": [
    "import tile_utils as tilu\n",
    "importlib.reload(tilu)"
   ]
  },
  {
   "cell_type": "code",
   "execution_count": 23,
   "id": "8f90c1f7",
   "metadata": {},
   "outputs": [],
   "source": [
    "tiles_train = tilu.create_basic_tile_df(assets_train_df)\n",
    "tiles_test = tilu.create_basic_tile_df(assets_test_df)"
   ]
  },
  {
   "cell_type": "code",
   "execution_count": 24,
   "id": "53c171b6",
   "metadata": {},
   "outputs": [
    {
     "name": "stdout",
     "output_type": "stream",
     "text": [
      "2650\n"
     ]
    }
   ],
   "source": [
    "sunny_train = tilu.create_sunny_df(assets_train_df)\n",
    "tiles_train = tiles_train.merge(sunny_train, how='inner', on='tile_id')"
   ]
  },
  {
   "cell_type": "markdown",
   "id": "9feadda1",
   "metadata": {},
   "source": [
    "We have included:\n",
    "+ the days that the sentinel 1 has taken a photo\n",
    "+ the days that the sentinel 2 has taken a photo\n",
    "+ the days that the sentinel 2 has taken a photo with no clouds\n",
    "+ the rate between the days with no clouds\n",
    "+ the days that the sentinel 2 has taken a photo with no clouds and with at least the 80% of the picture in good state."
   ]
  },
  {
   "cell_type": "markdown",
   "id": "090ab324",
   "metadata": {},
   "source": [
    "We alse are interested in knowing the neighbor tiles"
   ]
  },
  {
   "cell_type": "code",
   "execution_count": 25,
   "id": "d4a63aec",
   "metadata": {},
   "outputs": [],
   "source": [
    "tiles_train_crs32634 = tiles_train.to_crs(32634)\n",
    "\n",
    "# apply with a threshold of 4000m\n",
    "tiles_train['tiles_closest'] = tiles_train_crs32634.apply(tilu.tiles_closest, axis='columns', args=(tiles_train_crs32634, 4000,))"
   ]
  },
  {
   "cell_type": "code",
   "execution_count": 30,
   "id": "fe26dc72",
   "metadata": {},
   "outputs": [
    {
     "name": "stdout",
     "output_type": "stream",
     "text": [
      "{1: 0.0, 2: 0.0, 3: 0.0, 4: 0.0, 5: 0.6666666666666666, 6: 0.0, 7: 0.0, 8: 0.0, 9: 0.3333333333333333}\n"
     ]
    }
   ],
   "source": [
    "tiles_train['tile_label_dist'] = tiles_train.apply(tilu.label_distribution, axis='columns', args=(fields_train,))"
   ]
  },
  {
   "cell_type": "code",
   "execution_count": 68,
   "id": "91897484",
   "metadata": {},
   "outputs": [],
   "source": [
    "tiles_train.tiles_closest = tiles_train.tiles_closest.apply(eval)\n"
   ]
  },
  {
   "cell_type": "code",
   "execution_count": 74,
   "id": "9f3cda50",
   "metadata": {},
   "outputs": [
    {
     "name": "stdout",
     "output_type": "stream",
     "text": [
      "{1: 0.0, 2: 0.0, 3: 0.09683794466403162, 4: 0.0, 5: 0.21865236213062297, 6: 0.034782608695652174, 7: 0.0, 8: 0.0, 9: 0.6497270845096932}\n"
     ]
    }
   ],
   "source": [
    "tiles_train['close_label_dist'] = tiles_train.apply(tilu.close_tiles_label_dist, axis='columns', args=(tiles_train,))"
   ]
  },
  {
   "cell_type": "code",
   "execution_count": 93,
   "id": "f821a935",
   "metadata": {},
   "outputs": [],
   "source": [
    "tiles_train.tiles_closest = tiles_train.tiles_closest.astype(str)\n",
    "tiles_train.to_file('data/tiles_train.geojson', driver='GeoJSON')"
   ]
  },
  {
   "cell_type": "code",
   "execution_count": 94,
   "id": "b1cee54b",
   "metadata": {},
   "outputs": [
    {
     "name": "stdout",
     "output_type": "stream",
     "text": [
      "1137\n"
     ]
    }
   ],
   "source": [
    "sunny_test = tilu.create_sunny_df(assets_test_df)\n",
    "tiles_test = tiles_test.merge(sunny_test, how='inner', on='tile_id')"
   ]
  },
  {
   "cell_type": "code",
   "execution_count": 102,
   "id": "1d823ff3",
   "metadata": {},
   "outputs": [],
   "source": [
    "tiles_train = tilu.read_tile_geojson('data/tiles_train.geojson')\n",
    "tiles_train_crs32634 = tiles_train.to_crs(32634)\n",
    "tiles_test_crs32634 = tiles_test.to_crs(32634)\n",
    "\n",
    "# apply with a threshold of 4000m\n",
    "tiles_test['tiles_closest'] = tiles_test_crs32634.apply(tilu.tiles_closest, axis='columns', args=(tiles_train_crs32634, 4000,))"
   ]
  },
  {
   "cell_type": "markdown",
   "id": "27993bcf",
   "metadata": {},
   "source": [
    "and the most common crops in them"
   ]
  },
  {
   "cell_type": "code",
   "execution_count": 105,
   "id": "df69fd96",
   "metadata": {},
   "outputs": [
    {
     "data": {
      "text/html": [
       "<div>\n",
       "<style scoped>\n",
       "    .dataframe tbody tr th:only-of-type {\n",
       "        vertical-align: middle;\n",
       "    }\n",
       "\n",
       "    .dataframe tbody tr th {\n",
       "        vertical-align: top;\n",
       "    }\n",
       "\n",
       "    .dataframe thead th {\n",
       "        text-align: right;\n",
       "    }\n",
       "</style>\n",
       "<table border=\"1\" class=\"dataframe\">\n",
       "  <thead>\n",
       "    <tr style=\"text-align: right;\">\n",
       "      <th></th>\n",
       "      <th>tile_id</th>\n",
       "      <th>geometry</th>\n",
       "      <th>s1_days</th>\n",
       "      <th>all_days</th>\n",
       "      <th>sunny_days</th>\n",
       "      <th>sun_rate</th>\n",
       "      <th>clean_days</th>\n",
       "      <th>tiles_closest</th>\n",
       "    </tr>\n",
       "  </thead>\n",
       "  <tbody>\n",
       "    <tr>\n",
       "      <th>0</th>\n",
       "      <td>590</td>\n",
       "      <td>POLYGON ((18.12208 -33.02951, 18.14946 -33.030...</td>\n",
       "      <td>{259, 132, 264, 139, 271, 144, 276, 151, 283, ...</td>\n",
       "      <td>{131, 261, 134, 264, 266, 141, 269, 271, 144, ...</td>\n",
       "      <td>{261, 134, 266, 141, 271, 274, 151, 279, 284, ...</td>\n",
       "      <td>0.578947</td>\n",
       "      <td>{261, 134, 266, 141, 271, 274, 151, 279, 284, ...</td>\n",
       "      <td>[129, 743, 459, 1658, 1493, 1350, 1582, 1651]</td>\n",
       "    </tr>\n",
       "    <tr>\n",
       "      <th>1</th>\n",
       "      <td>1026</td>\n",
       "      <td>POLYGON ((18.66982 -33.04095, 18.69721 -33.041...</td>\n",
       "      <td>{259, 132, 264, 139, 271, 144, 276, 151, 283, ...</td>\n",
       "      <td>{131, 261, 266, 141, 269, 271, 276, 151, 279, ...</td>\n",
       "      <td>{261, 266, 269, 141, 271, 151, 279, 286, 289, ...</td>\n",
       "      <td>0.680851</td>\n",
       "      <td>{261, 266, 141, 271, 151, 286, 291, 296, 171, ...</td>\n",
       "      <td>[2215, 939, 1250, 2490, 830, 357, 2381]</td>\n",
       "    </tr>\n",
       "    <tr>\n",
       "      <th>2</th>\n",
       "      <td>100</td>\n",
       "      <td>POLYGON ((18.67173 -31.90977, 18.69878 -31.910...</td>\n",
       "      <td>{259, 132, 264, 139, 271, 144, 276, 151, 283, ...</td>\n",
       "      <td>{131, 261, 134, 264, 266, 141, 269, 271, 144, ...</td>\n",
       "      <td>{261, 134, 266, 269, 141, 144, 274, 279, 284, ...</td>\n",
       "      <td>0.644737</td>\n",
       "      <td>{261, 134, 266, 269, 141, 144, 274, 279, 284, ...</td>\n",
       "      <td>[1209, 1515, 2565, 1941, 850, 2560, 1097, 1765...</td>\n",
       "    </tr>\n",
       "    <tr>\n",
       "      <th>3</th>\n",
       "      <td>332</td>\n",
       "      <td>POLYGON ((18.21607 -31.76210, 18.24308 -31.762...</td>\n",
       "      <td>{259, 132, 264, 139, 271, 144, 276, 151, 283, ...</td>\n",
       "      <td>{134, 264, 269, 144, 274, 279, 154, 284, 289, ...</td>\n",
       "      <td>{134, 269, 144, 274, 279, 284, 289, 294, 174, ...</td>\n",
       "      <td>0.789474</td>\n",
       "      <td>{134, 269, 144, 274, 279, 284, 289, 294, 174, ...</td>\n",
       "      <td>[1260, 1450]</td>\n",
       "    </tr>\n",
       "    <tr>\n",
       "      <th>4</th>\n",
       "      <td>756</td>\n",
       "      <td>POLYGON ((18.40064 -32.87405, 18.42798 -32.874...</td>\n",
       "      <td>{259, 132, 264, 139, 271, 144, 276, 151, 283, ...</td>\n",
       "      <td>{131, 261, 134, 264, 266, 141, 269, 271, 144, ...</td>\n",
       "      <td>{261, 134, 266, 269, 141, 271, 144, 274, 151, ...</td>\n",
       "      <td>0.592105</td>\n",
       "      <td>{261, 134, 266, 269, 141, 271, 144, 274, 151, ...</td>\n",
       "      <td>[675, 1411, 1422, 1521, 1449, 389, 485]</td>\n",
       "    </tr>\n",
       "  </tbody>\n",
       "</table>\n",
       "</div>"
      ],
      "text/plain": [
       "   tile_id                                           geometry  \\\n",
       "0      590  POLYGON ((18.12208 -33.02951, 18.14946 -33.030...   \n",
       "1     1026  POLYGON ((18.66982 -33.04095, 18.69721 -33.041...   \n",
       "2      100  POLYGON ((18.67173 -31.90977, 18.69878 -31.910...   \n",
       "3      332  POLYGON ((18.21607 -31.76210, 18.24308 -31.762...   \n",
       "4      756  POLYGON ((18.40064 -32.87405, 18.42798 -32.874...   \n",
       "\n",
       "                                             s1_days  \\\n",
       "0  {259, 132, 264, 139, 271, 144, 276, 151, 283, ...   \n",
       "1  {259, 132, 264, 139, 271, 144, 276, 151, 283, ...   \n",
       "2  {259, 132, 264, 139, 271, 144, 276, 151, 283, ...   \n",
       "3  {259, 132, 264, 139, 271, 144, 276, 151, 283, ...   \n",
       "4  {259, 132, 264, 139, 271, 144, 276, 151, 283, ...   \n",
       "\n",
       "                                            all_days  \\\n",
       "0  {131, 261, 134, 264, 266, 141, 269, 271, 144, ...   \n",
       "1  {131, 261, 266, 141, 269, 271, 276, 151, 279, ...   \n",
       "2  {131, 261, 134, 264, 266, 141, 269, 271, 144, ...   \n",
       "3  {134, 264, 269, 144, 274, 279, 154, 284, 289, ...   \n",
       "4  {131, 261, 134, 264, 266, 141, 269, 271, 144, ...   \n",
       "\n",
       "                                          sunny_days  sun_rate  \\\n",
       "0  {261, 134, 266, 141, 271, 274, 151, 279, 284, ...  0.578947   \n",
       "1  {261, 266, 269, 141, 271, 151, 279, 286, 289, ...  0.680851   \n",
       "2  {261, 134, 266, 269, 141, 144, 274, 279, 284, ...  0.644737   \n",
       "3  {134, 269, 144, 274, 279, 284, 289, 294, 174, ...  0.789474   \n",
       "4  {261, 134, 266, 269, 141, 271, 144, 274, 151, ...  0.592105   \n",
       "\n",
       "                                          clean_days  \\\n",
       "0  {261, 134, 266, 141, 271, 274, 151, 279, 284, ...   \n",
       "1  {261, 266, 141, 271, 151, 286, 291, 296, 171, ...   \n",
       "2  {261, 134, 266, 269, 141, 144, 274, 279, 284, ...   \n",
       "3  {134, 269, 144, 274, 279, 284, 289, 294, 174, ...   \n",
       "4  {261, 134, 266, 269, 141, 271, 144, 274, 151, ...   \n",
       "\n",
       "                                       tiles_closest  \n",
       "0      [129, 743, 459, 1658, 1493, 1350, 1582, 1651]  \n",
       "1            [2215, 939, 1250, 2490, 830, 357, 2381]  \n",
       "2  [1209, 1515, 2565, 1941, 850, 2560, 1097, 1765...  \n",
       "3                                       [1260, 1450]  \n",
       "4            [675, 1411, 1422, 1521, 1449, 389, 485]  "
      ]
     },
     "execution_count": 105,
     "metadata": {},
     "output_type": "execute_result"
    }
   ],
   "source": [
    "tiles_test.head()"
   ]
  },
  {
   "cell_type": "code",
   "execution_count": 108,
   "id": "7da73962",
   "metadata": {},
   "outputs": [
    {
     "name": "stdout",
     "output_type": "stream",
     "text": [
      "{1: 0.04839328708488483, 2: 0.2357246576367556, 3: 0.0038325189230621823, 4: 0.3283579759634396, 5: 0.0021786492374727667, 6: 0.2184166082641485, 7: 0.11909296778040722, 8: 0.04400333510982934, 9: 0.0}\n"
     ]
    }
   ],
   "source": [
    "#tiles_test.tiles_closest = tiles_test.tiles_closest.apply(eval)\n",
    "tiles_test['close_label_dist'] = tiles_test.apply(tilu.close_tiles_label_dist, axis='columns', args=(tiles_train,))"
   ]
  },
  {
   "cell_type": "code",
   "execution_count": 109,
   "id": "b3c71a39",
   "metadata": {},
   "outputs": [],
   "source": [
    "tiles_test.tiles_closest = tiles_test.tiles_closest.astype(str)\n",
    "tiles_test.to_file('data/tiles_test.geojson', driver='GeoJSON')"
   ]
  },
  {
   "cell_type": "markdown",
   "id": "08b247b5",
   "metadata": {},
   "source": [
    "## 4. Stack Sentinel 2 Channels"
   ]
  },
  {
   "cell_type": "code",
   "execution_count": 56,
   "id": "e3919bf2",
   "metadata": {},
   "outputs": [
    {
     "data": {
      "text/plain": [
       "<module 'stack_NN_utils' from '/home/jupyter/NF-Capstone-Crop-Classification/stack_NN_utils.py'>"
      ]
     },
     "execution_count": 56,
     "metadata": {},
     "output_type": "execute_result"
    }
   ],
   "source": [
    "import stack_NN_utils as stul\n",
    "importlib.reload(stul)"
   ]
  },
  {
   "cell_type": "code",
   "execution_count": 52,
   "id": "26bbb468",
   "metadata": {},
   "outputs": [],
   "source": [
    "assets_train_df = pd.read_csv('data/assets_train.csv')\n",
    "assets_test_df = pd.read_csv('data/assets_test.csv')"
   ]
  },
  {
   "cell_type": "code",
   "execution_count": 51,
   "id": "7309a8d5",
   "metadata": {},
   "outputs": [],
   "source": [
    "tiles_train = tilu.read_tile_geojson('data/tiles_train.geojson')\n",
    "tiles_test = tilu.read_tile_geojson('data/tiles_test.geojson')"
   ]
  },
  {
   "cell_type": "code",
   "execution_count": 57,
   "id": "514c17de",
   "metadata": {},
   "outputs": [
    {
     "name": "stdout",
     "output_type": "stream",
     "text": [
      "428\n"
     ]
    }
   ],
   "source": [
    "num_days = 16\n",
    "satellite = \"s2\"\n",
    "\n",
    "assets_stacked_8days_train = stul.create_stacked_NN(assets_train_df ,tiles_train, \"s2\", 16, True)\n",
    "assets_stacked_8days_train.to_csv('data/assets_stacked_16days_train_CNN.csv')"
   ]
  },
  {
   "cell_type": "code",
   "execution_count": 196,
   "id": "bfd88e93",
   "metadata": {},
   "outputs": [
    {
     "name": "stdout",
     "output_type": "stream",
     "text": [
      "947\n"
     ]
    }
   ],
   "source": [
    "assets_stacked_8days_test = stul.create_stacked_s2(assets_test_df ,tiles_test)\n",
    "assets_stacked_8days_test.to_csv('data/assets_stacked_16days_test_CNN.csv')"
   ]
  },
  {
   "cell_type": "markdown",
   "id": "6b778d3b",
   "metadata": {},
   "source": [
    "## 5. Crop Fields and create Mean + Var"
   ]
  },
  {
   "cell_type": "code",
   "execution_count": 305,
   "id": "754db40a",
   "metadata": {},
   "outputs": [
    {
     "data": {
      "text/plain": [
       "<module 'crop_utils' from '/home/jupyter/NF-Capstone-Crop-Classification/crop_utils.py'>"
      ]
     },
     "execution_count": 305,
     "metadata": {},
     "output_type": "execute_result"
    }
   ],
   "source": [
    "import crop_utils as crul\n",
    "importlib.reload(crul)"
   ]
  },
  {
   "cell_type": "code",
   "execution_count": 295,
   "id": "068badb0",
   "metadata": {},
   "outputs": [],
   "source": [
    "asset_test_df = assets_test_df = pd.read_csv('data/assets_test.csv')\n",
    "tiles_test = tilu.read_tile_geojson('data/tiles_test.geojson')\n",
    "fields_test = gpd.read_file('data/fields_test.geojson')\n",
    "assets_stacked_8days_test = pd.read_csv('data/assets_stacked_8days_test.csv')"
   ]
  },
  {
   "cell_type": "code",
   "execution_count": null,
   "id": "1c77dd0a",
   "metadata": {},
   "outputs": [],
   "source": [
    "train_mean_var = crul.create_mean_var(assets_train_df, assets_stacked_8days_train, fields_test, tiles_train, True)\n",
    "train_mean_var.to_csv('data/mean_var_8days_train.csv', index=False)"
   ]
  },
  {
   "cell_type": "code",
   "execution_count": 307,
   "id": "943f741e",
   "metadata": {},
   "outputs": [],
   "source": [
    "test_mean_var = crul.create_mean_var(assets_test_df, assets_stacked_8days_test, fields_test, tiles_test, False)\n",
    "test_mean_var.to_csv('data/mean_var_8days_test.csv', index=False)"
   ]
  },
  {
   "cell_type": "code",
   "execution_count": null,
   "id": "2d61ee1d",
   "metadata": {},
   "outputs": [],
   "source": []
  }
 ],
 "metadata": {
  "environment": {
   "name": "tf2-gpu.2-3.m74",
   "type": "gcloud",
   "uri": "gcr.io/deeplearning-platform-release/tf2-gpu.2-3:m74"
  },
  "kernelspec": {
   "display_name": "Python 3",
   "language": "python",
   "name": "python3"
  },
  "language_info": {
   "codemirror_mode": {
    "name": "ipython",
    "version": 3
   },
   "file_extension": ".py",
   "mimetype": "text/x-python",
   "name": "python",
   "nbconvert_exporter": "python",
   "pygments_lexer": "ipython3",
   "version": "3.7.10"
  }
 },
 "nbformat": 4,
 "nbformat_minor": 5
}
