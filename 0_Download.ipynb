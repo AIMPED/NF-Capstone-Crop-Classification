{
 "cells": [
  {
   "cell_type": "code",
   "execution_count": 2,
   "id": "4a263166",
   "metadata": {},
   "outputs": [],
   "source": [
    "from radiant_mlhub import Collection\n",
    "import tarfile\n",
    "import os\n",
    "from pathlib import Path\n",
    "import json"
   ]
  },
  {
   "cell_type": "code",
   "execution_count": null,
   "id": "f622a7b7",
   "metadata": {},
   "outputs": [
    {
     "name": "stdout",
     "output_type": "stream",
     "text": [
      "Downloading ref_south_africa_crops_competition_v1_test_source_s2...\n"
     ]
    },
    {
     "data": {
      "application/vnd.jupyter.widget-view+json": {
       "model_id": "7078baefe5674e81ba0df4ed50d29814",
       "version_major": 2,
       "version_minor": 0
      },
      "text/plain": [
       "  0%|          | 0/23777.2 [00:00<?, ?M/s]"
      ]
     },
     "metadata": {},
     "output_type": "display_data"
    }
   ],
   "source": [
    "os.environ['MLHUB_API_KEY'] = '891fd695bf30e3fbd0e4bffbb149621de0b4f51d082b8eeac7ef0e7432ba94d2'\n",
    "\n",
    "collections = [\n",
    "    #'ref_south_africa_crops_competition_v1_train_labels',\n",
    "    #'ref_south_africa_crops_competition_v1_train_source_s1', # Comment this out if you do not wish to download the Sentinel-1 Data\n",
    "    #'ref_south_africa_crops_competition_v1_train_source_s2',\n",
    "    #'ref_south_africa_crops_competition_v1_test_labels',\n",
    "    #'ref_south_africa_crops_competition_v1_test_source_s1', # Comment this out if you do not wish to download the Sentinel-1 Data\n",
    "    'ref_south_africa_crops_competition_v1_test_source_s2'\n",
    "]\n",
    "\n",
    "def download(collection_id):\n",
    "    print(f'Downloading {collection_id}...')\n",
    "    collection = Collection.fetch(collection_id)\n",
    "    path = collection.download('.')\n",
    "    tar = tarfile.open(path, \"r:gz\")\n",
    "    tar.extractall()\n",
    "    tar.close()\n",
    "    os.remove(path)\n",
    "    \n",
    "for c in collections:\n",
    "    download(c)"
   ]
  },
  {
   "cell_type": "code",
   "execution_count": null,
   "id": "d2df2591",
   "metadata": {},
   "outputs": [],
   "source": []
  }
 ],
 "metadata": {
  "environment": {
   "name": "tf2-gpu.2-3.m74",
   "type": "gcloud",
   "uri": "gcr.io/deeplearning-platform-release/tf2-gpu.2-3:m74"
  },
  "kernelspec": {
   "display_name": "Python 3",
   "language": "python",
   "name": "python3"
  },
  "language_info": {
   "codemirror_mode": {
    "name": "ipython",
    "version": 3
   },
   "file_extension": ".py",
   "mimetype": "text/x-python",
   "name": "python",
   "nbconvert_exporter": "python",
   "pygments_lexer": "ipython3",
   "version": "3.7.10"
  }
 },
 "nbformat": 4,
 "nbformat_minor": 5
}
