{
 "cells": [
  {
   "cell_type": "markdown",
   "id": "d10546be",
   "metadata": {},
   "source": [
    "# Data preparation\n",
    "\n",
    "This notebook we process the satellite photos from the `Radiant Earth Spot the Crop Challenge` to transform the data to a format that is easier to handle.\n",
    "\n",
    "The images were download in the previous notebook `0. Download.ipynb` and it is the starting point for this Notebook.\n",
    "This are the libraries that we will need:"
   ]
  },
  {
   "cell_type": "code",
   "execution_count": 15,
   "id": "e3548f5d",
   "metadata": {},
   "outputs": [],
   "source": [
    "import datetime\n",
    "import rasterio\n",
    "import numpy as np\n",
    "import pandas as pd\n",
    "import geopandas as gpd"
   ]
  },
  {
   "cell_type": "markdown",
   "id": "c4262913",
   "metadata": {},
   "source": [
    "## 1. List of assets from Radiant MLHub\n",
    "\n",
    "\n",
    "The Radiant MLHub API gives access to open Earth imagery training data for machine learning applications. You can learn more about the repository at the [Radiant MLHub site](https://mlhub.earth) and about the organization behind it at the [Radiant Earth Foundation site](https://radiant.earth).\n",
    "\n",
    "Full documentation for the API is available at [docs.mlhub.earth](docs.mlhub.earth).\n",
    "\n",
    "Each item in our collection is explained in json format compliant with [STAC](https://stacspec.org/) [label extension](https://github.com/radiantearth/stac-spec/tree/master/extensions/label) definition.\n",
    "\n",
    "We create a DataFrame that sumarizes all the different assets."
   ]
  },
  {
   "cell_type": "code",
   "execution_count": 2,
   "id": "9af0c74c",
   "metadata": {},
   "outputs": [],
   "source": [
    "import importlib\n",
    "import create_asset_files as crass\n",
    "importlib.reload(crass)\n",
    "\n",
    "labels_path = {\"train\": 'ref_south_africa_crops_competition_v1_train_labels',\n",
    "              \"test\": 'ref_south_africa_crops_competition_v1_test_labels'}"
   ]
  },
  {
   "cell_type": "code",
   "execution_count": null,
   "id": "bf5ff14d",
   "metadata": {},
   "outputs": [],
   "source": [
    "# creating asset collection for the train set\n",
    "case = \"train\"\n",
    "assets_train_df = crass.create_assets(labels_path[case])\n",
    "\n",
    "assets_train_df.datetime = pd.to_datetime(assets_train_df.datetime)\n",
    "assets_train_df = assets_train_df.assign(\n",
    "    date = lambda x: x['datetime'].dt.date,\n",
    "    month = lambda x: x['datetime'].dt.month.astype('Int64'),\n",
    "    dayofyear = lambda x: x['datetime'].dt.dayofyear.astype('Int64'),\n",
    ")\n",
    "\n",
    "assets_train_df.tile_id = assets_train_df.tile_id.astype(int)\n",
    "assets_train_df.to_csv(f\"data/assets_{case}.csv\", index = False)\n",
    "print(f\"assets_{case}.csv was saved in /data\")\n",
    "assets_train_df.head()"
   ]
  },
  {
   "cell_type": "code",
   "execution_count": 41,
   "id": "51849322",
   "metadata": {},
   "outputs": [
    {
     "name": "stdout",
     "output_type": "stream",
     "text": [
      "Procesing 1137 of 1137\n",
      "assets_test.csv was saved in /data\n"
     ]
    }
   ],
   "source": [
    "# creating asset collection for the test set\n",
    "case = \"test\"\n",
    "assets_test_df = create_assets(labels_path[case])\n",
    "\n",
    "assets_test_df.datetime = pd.to_datetime(assets_test_df.datetime)\n",
    "assets_test_df = assets_test_df.assign(\n",
    "    date = lambda x: x['datetime'].dt.date,\n",
    "    month = lambda x: x['datetime'].dt.month.astype('Int64'),\n",
    "    dayofyear = lambda x: x['datetime'].dt.dayofyear.astype('Int64'),\n",
    ")\n",
    "\n",
    "assets_test_df.tile_id = assets_test_df.tile_id.astype(int)\n",
    "assets_test_df.to_csv(f\"data/assets_{case}.csv\", index = False)\n",
    "print(f\"assets_{case}.csv was saved in /data\")\n",
    "assets_test_df.head()"
   ]
  },
  {
   "cell_type": "markdown",
   "id": "2403096f",
   "metadata": {},
   "source": [
    "## 2. Fields DataFrame"
   ]
  },
  {
   "cell_type": "markdown",
   "id": "d4fa0b73",
   "metadata": {},
   "source": [
    "Now we want to generate a dataframe containing the inforatio of all the different fields."
   ]
  },
  {
   "cell_type": "code",
   "execution_count": 11,
   "id": "2d332206",
   "metadata": {},
   "outputs": [
    {
     "name": "stdout",
     "output_type": "stream",
     "text": [
      "Tile Nr. 2650 of total 2650\n"
     ]
    }
   ],
   "source": [
    "assets_train_df = pd.read_csv('data/assets_train.csv')\n",
    "fields_train = crass.create_field_list_train(assets_train_df)\n",
    "fields_train.head()"
   ]
  },
  {
   "cell_type": "code",
   "execution_count": 287,
   "id": "4960e83d",
   "metadata": {},
   "outputs": [
    {
     "name": "stdout",
     "output_type": "stream",
     "text": [
      "Tile Nr. 1137 of total 1137\n"
     ]
    },
    {
     "data": {
      "text/html": [
       "<div>\n",
       "<style scoped>\n",
       "    .dataframe tbody tr th:only-of-type {\n",
       "        vertical-align: middle;\n",
       "    }\n",
       "\n",
       "    .dataframe tbody tr th {\n",
       "        vertical-align: top;\n",
       "    }\n",
       "\n",
       "    .dataframe thead th {\n",
       "        text-align: right;\n",
       "    }\n",
       "</style>\n",
       "<table border=\"1\" class=\"dataframe\">\n",
       "  <thead>\n",
       "    <tr style=\"text-align: right;\">\n",
       "      <th></th>\n",
       "      <th>geometry</th>\n",
       "      <th>field_id</th>\n",
       "      <th>tile_id</th>\n",
       "      <th>field_area_km2</th>\n",
       "    </tr>\n",
       "  </thead>\n",
       "  <tbody>\n",
       "    <tr>\n",
       "      <th>0</th>\n",
       "      <td>POLYGON ((18.13951 -33.00683, 18.13950 -33.007...</td>\n",
       "      <td>62027</td>\n",
       "      <td>590</td>\n",
       "      <td>0.037301</td>\n",
       "    </tr>\n",
       "    <tr>\n",
       "      <th>1</th>\n",
       "      <td>POLYGON ((18.14625 -33.00699, 18.14624 -33.007...</td>\n",
       "      <td>62071</td>\n",
       "      <td>590</td>\n",
       "      <td>0.050804</td>\n",
       "    </tr>\n",
       "    <tr>\n",
       "      <th>2</th>\n",
       "      <td>POLYGON ((18.14045 -33.00757, 18.14044 -33.007...</td>\n",
       "      <td>85373</td>\n",
       "      <td>590</td>\n",
       "      <td>0.022991</td>\n",
       "    </tr>\n",
       "    <tr>\n",
       "      <th>3</th>\n",
       "      <td>POLYGON ((18.13053 -33.00662, 18.13052 -33.006...</td>\n",
       "      <td>102896</td>\n",
       "      <td>590</td>\n",
       "      <td>0.281303</td>\n",
       "    </tr>\n",
       "    <tr>\n",
       "      <th>4</th>\n",
       "      <td>POLYGON ((18.14654 -33.00771, 18.14654 -33.007...</td>\n",
       "      <td>3079</td>\n",
       "      <td>590</td>\n",
       "      <td>0.139693</td>\n",
       "    </tr>\n",
       "  </tbody>\n",
       "</table>\n",
       "</div>"
      ],
      "text/plain": [
       "                                            geometry  field_id  tile_id  \\\n",
       "0  POLYGON ((18.13951 -33.00683, 18.13950 -33.007...     62027      590   \n",
       "1  POLYGON ((18.14625 -33.00699, 18.14624 -33.007...     62071      590   \n",
       "2  POLYGON ((18.14045 -33.00757, 18.14044 -33.007...     85373      590   \n",
       "3  POLYGON ((18.13053 -33.00662, 18.13052 -33.006...    102896      590   \n",
       "4  POLYGON ((18.14654 -33.00771, 18.14654 -33.007...      3079      590   \n",
       "\n",
       "   field_area_km2  \n",
       "0        0.037301  \n",
       "1        0.050804  \n",
       "2        0.022991  \n",
       "3        0.281303  \n",
       "4        0.139693  "
      ]
     },
     "execution_count": 287,
     "metadata": {},
     "output_type": "execute_result"
    }
   ],
   "source": [
    "assets_test_df = pd.read_csv('data/assets_test.csv')\n",
    "fields_test = crass.create_field_list_test(assets_test_df)\n",
    "fields_test.head()"
   ]
  },
  {
   "cell_type": "markdown",
   "id": "22772cdf",
   "metadata": {},
   "source": [
    "Some fields with 0 label and 0 field_id are present, they seem to be very small, so we will drop them from the list"
   ]
  },
  {
   "cell_type": "code",
   "execution_count": 17,
   "id": "09c68d37",
   "metadata": {},
   "outputs": [],
   "source": [
    "fields_train = crass.remove_dupl_fields(fields_train)"
   ]
  },
  {
   "cell_type": "code",
   "execution_count": 289,
   "id": "7ee7c3ae",
   "metadata": {},
   "outputs": [],
   "source": [
    "fields_test = crass.remove_dupl_fields(fields_test)"
   ]
  },
  {
   "cell_type": "markdown",
   "id": "6f0e0a94",
   "metadata": {},
   "source": [
    "We also add another column with the fields elevation over the sea in m."
   ]
  },
  {
   "cell_type": "code",
   "execution_count": null,
   "id": "25a76ede",
   "metadata": {},
   "outputs": [],
   "source": [
    "crass.download_elevation(fields_train)"
   ]
  },
  {
   "cell_type": "code",
   "execution_count": 40,
   "id": "20b97fa4",
   "metadata": {},
   "outputs": [],
   "source": [
    "elev_src = rasterio.open('/home/jupyter/NF-Capstone-Crop-Classification/data/elev_merged.tif')\n",
    "elev_read = elev_src.read()"
   ]
  },
  {
   "cell_type": "markdown",
   "id": "f0242c74",
   "metadata": {},
   "source": [
    "We can save the DataFrame after that"
   ]
  },
  {
   "cell_type": "code",
   "execution_count": null,
   "id": "bfc1bd18",
   "metadata": {},
   "outputs": [],
   "source": [
    "fields_train['elevation'] = fields_train.geometry.apply(crass.get_elev, args=(elev_src, elev_read, ))\n",
    "fields_train.to_file('data/fields_train.geojson', driver='GeoJSON')"
   ]
  },
  {
   "cell_type": "code",
   "execution_count": 294,
   "id": "a97a8546",
   "metadata": {},
   "outputs": [],
   "source": [
    "fields_test['elevation'] = fields_test.geometry.apply(crass.get_elev, args=(elev_src, elev_read, ))\n",
    "fields_test.to_file('data/fields_test.geojson', driver='GeoJSON')"
   ]
  },
  {
   "cell_type": "markdown",
   "id": "f15e9391",
   "metadata": {},
   "source": [
    "## 3. Tile DataFrame"
   ]
  },
  {
   "cell_type": "markdown",
   "id": "e77d6365",
   "metadata": {},
   "source": [
    "Now we want to extract all the information regarding the Tiles.\n",
    "\n",
    "First, we check which days the images contain clouds."
   ]
  },
  {
   "cell_type": "code",
   "execution_count": 3,
   "id": "289ca292",
   "metadata": {},
   "outputs": [],
   "source": [
    "fields_train = gpd.read_file('data/fields_train.geojson')\n",
    "fields_test = gpd.read_file('data/fields_test.geojson')"
   ]
  },
  {
   "cell_type": "code",
   "execution_count": 4,
   "id": "4184c6aa",
   "metadata": {},
   "outputs": [],
   "source": [
    "assets_train_df = pd.read_csv('data/assets_train.csv')\n",
    "assets_test_df = pd.read_csv('data/assets_test.csv')"
   ]
  },
  {
   "cell_type": "code",
   "execution_count": 19,
   "id": "0c65a9fd",
   "metadata": {},
   "outputs": [
    {
     "data": {
      "text/plain": [
       "<module 'tile_utils' from '/home/jupyter/NF-Capstone-Crop-Classification/tile_utils.py'>"
      ]
     },
     "execution_count": 19,
     "metadata": {},
     "output_type": "execute_result"
    }
   ],
   "source": [
    "import tile_utils as tilu\n",
    "importlib.reload(tilu)"
   ]
  },
  {
   "cell_type": "code",
   "execution_count": 20,
   "id": "90886d6d",
   "metadata": {},
   "outputs": [],
   "source": [
    "tiles_train = tilu.create_basic_tile_df(assets_train_df)\n",
    "tiles_test = tilu.create_basic_tile_df(assets_test_df)"
   ]
  },
  {
   "cell_type": "code",
   "execution_count": null,
   "id": "8f815c43",
   "metadata": {},
   "outputs": [
    {
     "name": "stdout",
     "output_type": "stream",
     "text": [
      "1360\n"
     ]
    }
   ],
   "source": [
    "sunny_train = tilu.create_sunny_df(assets_train_df)\n",
    "tiles_train = tiles_train.merge(sunny_train, how='inner', on='tile_id')"
   ]
  },
  {
   "cell_type": "markdown",
   "id": "e7e8b0c6",
   "metadata": {},
   "source": [
    "We have included:\n",
    "+ the days that the sentinel 1 has taken a photo\n",
    "+ the days that the sentinel 2 has taken a photo\n",
    "+ the days that the sentinel 2 has taken a photo with no clouds\n",
    "+ the rate between the days with no clouds\n",
    "+ the days that the sentinel 2 has taken a photo with no clouds and with at least the 80% of the picture in good state."
   ]
  },
  {
   "cell_type": "markdown",
   "id": "12ff0a62",
   "metadata": {},
   "source": [
    "We alse are interested in knowing the neighbor tiles"
   ]
  },
  {
   "cell_type": "code",
   "execution_count": null,
   "id": "1833945b",
   "metadata": {},
   "outputs": [],
   "source": [
    "tiles_train_crs32634 = tiles_train.to_crs(32634)\n",
    "\n",
    "# apply with a threshold of 4000m\n",
    "tiles_train['tiles_closest'] = tiles_train_crs32634.apply(tilu.tiles_closest, axis='columns', args=(tiles_train_crs32634, 4000,))"
   ]
  },
  {
   "cell_type": "code",
   "execution_count": 43,
   "id": "6ff82676",
   "metadata": {},
   "outputs": [
    {
     "name": "stdout",
     "output_type": "stream",
     "text": [
      "{1: 0.0, 2: 0.0, 3: 0.0, 4: 0.0, 5: 0.6666666666666666, 6: 0.0, 7: 0.0, 8: 0.0, 9: 0.3333333333333333}\n"
     ]
    }
   ],
   "source": [
    "tiles_train['tile_label_dist'] = tiles_train.apply(tilu.label_distribution, axis='columns', args=(fields_train,))"
   ]
  },
  {
   "cell_type": "code",
   "execution_count": 170,
   "id": "d11030ff",
   "metadata": {
    "collapsed": true,
    "jupyter": {
     "outputs_hidden": true
    }
   },
   "outputs": [
    {
     "name": "stdout",
     "output_type": "stream",
     "text": [
      "{1: 0.0, 2: 0.10568463794270244, 3: 0.17847206556883977, 4: 0.0, 5: 0.41785096623806295, 6: 0.036393713813068655, 7: 0.0, 8: 0.0, 9: 0.2615986164373261}\n",
      "{'1': 0, '2': 0.3333333333333333, '3': 0, '4': 0, '5': 0.6666666666666666, '6': 0, '7': 0, '8': 0, '9': 0}\n",
      "{'1': 0.2631578947368421, '2': 0.47368421052631576, '3': 0.10526315789473684, '4': 0, '5': 0, '6': 0.15789473684210525, '7': 0, '8': 0, '9': 0}\n",
      "{'1': 0, '2': 0.6756756756756757, '3': 0.05405405405405406, '4': 0, '5': 0.21621621621621623, '6': 0.05405405405405406, '7': 0, '8': 0, '9': 0}\n",
      "{'1': 0, '2': 0.4827586206896552, '3': 0.3793103448275862, '4': 0, '5': 0.05172413793103448, '6': 0.08620689655172414, '7': 0, '8': 0, '9': 0}\n",
      "{'1': 0, '2': 0, '3': 0, '4': 0, '5': 0.8333333333333334, '6': 0.16666666666666666, '7': 0, '8': 0, '9': 0}\n"
     ]
    },
    {
     "ename": "KeyboardInterrupt",
     "evalue": "",
     "output_type": "error",
     "traceback": [
      "\u001b[0;31m---------------------------------------------------------------------------\u001b[0m",
      "\u001b[0;31mKeyboardInterrupt\u001b[0m                         Traceback (most recent call last)",
      "\u001b[0;32m<ipython-input-170-601642732774>\u001b[0m in \u001b[0;36m<module>\u001b[0;34m\u001b[0m\n\u001b[0;32m----> 1\u001b[0;31m \u001b[0mtiles_train\u001b[0m\u001b[0;34m[\u001b[0m\u001b[0;34m'close_label_dist'\u001b[0m\u001b[0;34m]\u001b[0m \u001b[0;34m=\u001b[0m \u001b[0mtiles_train\u001b[0m\u001b[0;34m.\u001b[0m\u001b[0mapply\u001b[0m\u001b[0;34m(\u001b[0m\u001b[0mtilu\u001b[0m\u001b[0;34m.\u001b[0m\u001b[0mclose_tiles_label_dist\u001b[0m\u001b[0;34m,\u001b[0m \u001b[0maxis\u001b[0m\u001b[0;34m=\u001b[0m\u001b[0;34m'columns'\u001b[0m\u001b[0;34m,\u001b[0m \u001b[0margs\u001b[0m\u001b[0;34m=\u001b[0m\u001b[0;34m(\u001b[0m\u001b[0mtiles_train\u001b[0m\u001b[0;34m,\u001b[0m\u001b[0;34m)\u001b[0m\u001b[0;34m)\u001b[0m\u001b[0;34m\u001b[0m\u001b[0;34m\u001b[0m\u001b[0m\n\u001b[0m",
      "\u001b[0;32m/opt/conda/lib/python3.7/site-packages/geopandas/geodataframe.py\u001b[0m in \u001b[0;36mapply\u001b[0;34m(self, func, axis, raw, result_type, args, **kwargs)\u001b[0m\n\u001b[1;32m   1360\u001b[0m     \u001b[0;32mdef\u001b[0m \u001b[0mapply\u001b[0m\u001b[0;34m(\u001b[0m\u001b[0mself\u001b[0m\u001b[0;34m,\u001b[0m \u001b[0mfunc\u001b[0m\u001b[0;34m,\u001b[0m \u001b[0maxis\u001b[0m\u001b[0;34m=\u001b[0m\u001b[0;36m0\u001b[0m\u001b[0;34m,\u001b[0m \u001b[0mraw\u001b[0m\u001b[0;34m=\u001b[0m\u001b[0;32mFalse\u001b[0m\u001b[0;34m,\u001b[0m \u001b[0mresult_type\u001b[0m\u001b[0;34m=\u001b[0m\u001b[0;32mNone\u001b[0m\u001b[0;34m,\u001b[0m \u001b[0margs\u001b[0m\u001b[0;34m=\u001b[0m\u001b[0;34m(\u001b[0m\u001b[0;34m)\u001b[0m\u001b[0;34m,\u001b[0m \u001b[0;34m**\u001b[0m\u001b[0mkwargs\u001b[0m\u001b[0;34m)\u001b[0m\u001b[0;34m:\u001b[0m\u001b[0;34m\u001b[0m\u001b[0;34m\u001b[0m\u001b[0m\n\u001b[1;32m   1361\u001b[0m         result = super().apply(\n\u001b[0;32m-> 1362\u001b[0;31m             \u001b[0mfunc\u001b[0m\u001b[0;34m,\u001b[0m \u001b[0maxis\u001b[0m\u001b[0;34m=\u001b[0m\u001b[0maxis\u001b[0m\u001b[0;34m,\u001b[0m \u001b[0mraw\u001b[0m\u001b[0;34m=\u001b[0m\u001b[0mraw\u001b[0m\u001b[0;34m,\u001b[0m \u001b[0mresult_type\u001b[0m\u001b[0;34m=\u001b[0m\u001b[0mresult_type\u001b[0m\u001b[0;34m,\u001b[0m \u001b[0margs\u001b[0m\u001b[0;34m=\u001b[0m\u001b[0margs\u001b[0m\u001b[0;34m,\u001b[0m \u001b[0;34m**\u001b[0m\u001b[0mkwargs\u001b[0m\u001b[0;34m\u001b[0m\u001b[0;34m\u001b[0m\u001b[0m\n\u001b[0m\u001b[1;32m   1363\u001b[0m         )\n\u001b[1;32m   1364\u001b[0m         if (\n",
      "\u001b[0;32m/opt/conda/lib/python3.7/site-packages/pandas/core/frame.py\u001b[0m in \u001b[0;36mapply\u001b[0;34m(self, func, axis, raw, result_type, args, **kwds)\u001b[0m\n\u001b[1;32m   7766\u001b[0m             \u001b[0mkwds\u001b[0m\u001b[0;34m=\u001b[0m\u001b[0mkwds\u001b[0m\u001b[0;34m,\u001b[0m\u001b[0;34m\u001b[0m\u001b[0;34m\u001b[0m\u001b[0m\n\u001b[1;32m   7767\u001b[0m         )\n\u001b[0;32m-> 7768\u001b[0;31m         \u001b[0;32mreturn\u001b[0m \u001b[0mop\u001b[0m\u001b[0;34m.\u001b[0m\u001b[0mget_result\u001b[0m\u001b[0;34m(\u001b[0m\u001b[0;34m)\u001b[0m\u001b[0;34m\u001b[0m\u001b[0;34m\u001b[0m\u001b[0m\n\u001b[0m\u001b[1;32m   7769\u001b[0m \u001b[0;34m\u001b[0m\u001b[0m\n\u001b[1;32m   7770\u001b[0m     \u001b[0;32mdef\u001b[0m \u001b[0mapplymap\u001b[0m\u001b[0;34m(\u001b[0m\u001b[0mself\u001b[0m\u001b[0;34m,\u001b[0m \u001b[0mfunc\u001b[0m\u001b[0;34m,\u001b[0m \u001b[0mna_action\u001b[0m\u001b[0;34m:\u001b[0m \u001b[0mOptional\u001b[0m\u001b[0;34m[\u001b[0m\u001b[0mstr\u001b[0m\u001b[0;34m]\u001b[0m \u001b[0;34m=\u001b[0m \u001b[0;32mNone\u001b[0m\u001b[0;34m)\u001b[0m \u001b[0;34m->\u001b[0m \u001b[0mDataFrame\u001b[0m\u001b[0;34m:\u001b[0m\u001b[0;34m\u001b[0m\u001b[0;34m\u001b[0m\u001b[0m\n",
      "\u001b[0;32m/opt/conda/lib/python3.7/site-packages/pandas/core/apply.py\u001b[0m in \u001b[0;36mget_result\u001b[0;34m(self)\u001b[0m\n\u001b[1;32m    183\u001b[0m             \u001b[0;32mreturn\u001b[0m \u001b[0mself\u001b[0m\u001b[0;34m.\u001b[0m\u001b[0mapply_raw\u001b[0m\u001b[0;34m(\u001b[0m\u001b[0;34m)\u001b[0m\u001b[0;34m\u001b[0m\u001b[0;34m\u001b[0m\u001b[0m\n\u001b[1;32m    184\u001b[0m \u001b[0;34m\u001b[0m\u001b[0m\n\u001b[0;32m--> 185\u001b[0;31m         \u001b[0;32mreturn\u001b[0m \u001b[0mself\u001b[0m\u001b[0;34m.\u001b[0m\u001b[0mapply_standard\u001b[0m\u001b[0;34m(\u001b[0m\u001b[0;34m)\u001b[0m\u001b[0;34m\u001b[0m\u001b[0;34m\u001b[0m\u001b[0m\n\u001b[0m\u001b[1;32m    186\u001b[0m \u001b[0;34m\u001b[0m\u001b[0m\n\u001b[1;32m    187\u001b[0m     \u001b[0;32mdef\u001b[0m \u001b[0mapply_empty_result\u001b[0m\u001b[0;34m(\u001b[0m\u001b[0mself\u001b[0m\u001b[0;34m)\u001b[0m\u001b[0;34m:\u001b[0m\u001b[0;34m\u001b[0m\u001b[0;34m\u001b[0m\u001b[0m\n",
      "\u001b[0;32m/opt/conda/lib/python3.7/site-packages/pandas/core/apply.py\u001b[0m in \u001b[0;36mapply_standard\u001b[0;34m(self)\u001b[0m\n\u001b[1;32m    274\u001b[0m \u001b[0;34m\u001b[0m\u001b[0m\n\u001b[1;32m    275\u001b[0m     \u001b[0;32mdef\u001b[0m \u001b[0mapply_standard\u001b[0m\u001b[0;34m(\u001b[0m\u001b[0mself\u001b[0m\u001b[0;34m)\u001b[0m\u001b[0;34m:\u001b[0m\u001b[0;34m\u001b[0m\u001b[0;34m\u001b[0m\u001b[0m\n\u001b[0;32m--> 276\u001b[0;31m         \u001b[0mresults\u001b[0m\u001b[0;34m,\u001b[0m \u001b[0mres_index\u001b[0m \u001b[0;34m=\u001b[0m \u001b[0mself\u001b[0m\u001b[0;34m.\u001b[0m\u001b[0mapply_series_generator\u001b[0m\u001b[0;34m(\u001b[0m\u001b[0;34m)\u001b[0m\u001b[0;34m\u001b[0m\u001b[0;34m\u001b[0m\u001b[0m\n\u001b[0m\u001b[1;32m    277\u001b[0m \u001b[0;34m\u001b[0m\u001b[0m\n\u001b[1;32m    278\u001b[0m         \u001b[0;31m# wrap results\u001b[0m\u001b[0;34m\u001b[0m\u001b[0;34m\u001b[0m\u001b[0;34m\u001b[0m\u001b[0m\n",
      "\u001b[0;32m/opt/conda/lib/python3.7/site-packages/pandas/core/apply.py\u001b[0m in \u001b[0;36mapply_series_generator\u001b[0;34m(self)\u001b[0m\n\u001b[1;32m    288\u001b[0m             \u001b[0;32mfor\u001b[0m \u001b[0mi\u001b[0m\u001b[0;34m,\u001b[0m \u001b[0mv\u001b[0m \u001b[0;32min\u001b[0m \u001b[0menumerate\u001b[0m\u001b[0;34m(\u001b[0m\u001b[0mseries_gen\u001b[0m\u001b[0;34m)\u001b[0m\u001b[0;34m:\u001b[0m\u001b[0;34m\u001b[0m\u001b[0;34m\u001b[0m\u001b[0m\n\u001b[1;32m    289\u001b[0m                 \u001b[0;31m# ignore SettingWithCopy here in case the user mutates\u001b[0m\u001b[0;34m\u001b[0m\u001b[0;34m\u001b[0m\u001b[0;34m\u001b[0m\u001b[0m\n\u001b[0;32m--> 290\u001b[0;31m                 \u001b[0mresults\u001b[0m\u001b[0;34m[\u001b[0m\u001b[0mi\u001b[0m\u001b[0;34m]\u001b[0m \u001b[0;34m=\u001b[0m \u001b[0mself\u001b[0m\u001b[0;34m.\u001b[0m\u001b[0mf\u001b[0m\u001b[0;34m(\u001b[0m\u001b[0mv\u001b[0m\u001b[0;34m)\u001b[0m\u001b[0;34m\u001b[0m\u001b[0;34m\u001b[0m\u001b[0m\n\u001b[0m\u001b[1;32m    291\u001b[0m                 \u001b[0;32mif\u001b[0m \u001b[0misinstance\u001b[0m\u001b[0;34m(\u001b[0m\u001b[0mresults\u001b[0m\u001b[0;34m[\u001b[0m\u001b[0mi\u001b[0m\u001b[0;34m]\u001b[0m\u001b[0;34m,\u001b[0m \u001b[0mABCSeries\u001b[0m\u001b[0;34m)\u001b[0m\u001b[0;34m:\u001b[0m\u001b[0;34m\u001b[0m\u001b[0;34m\u001b[0m\u001b[0m\n\u001b[1;32m    292\u001b[0m                     \u001b[0;31m# If we have a view on v, we need to make a copy because\u001b[0m\u001b[0;34m\u001b[0m\u001b[0;34m\u001b[0m\u001b[0;34m\u001b[0m\u001b[0m\n",
      "\u001b[0;32m/opt/conda/lib/python3.7/site-packages/pandas/core/apply.py\u001b[0m in \u001b[0;36mf\u001b[0;34m(x)\u001b[0m\n\u001b[1;32m    108\u001b[0m \u001b[0;34m\u001b[0m\u001b[0m\n\u001b[1;32m    109\u001b[0m             \u001b[0;32mdef\u001b[0m \u001b[0mf\u001b[0m\u001b[0;34m(\u001b[0m\u001b[0mx\u001b[0m\u001b[0;34m)\u001b[0m\u001b[0;34m:\u001b[0m\u001b[0;34m\u001b[0m\u001b[0;34m\u001b[0m\u001b[0m\n\u001b[0;32m--> 110\u001b[0;31m                 \u001b[0;32mreturn\u001b[0m \u001b[0mfunc\u001b[0m\u001b[0;34m(\u001b[0m\u001b[0mx\u001b[0m\u001b[0;34m,\u001b[0m \u001b[0;34m*\u001b[0m\u001b[0margs\u001b[0m\u001b[0;34m,\u001b[0m \u001b[0;34m**\u001b[0m\u001b[0mkwds\u001b[0m\u001b[0;34m)\u001b[0m\u001b[0;34m\u001b[0m\u001b[0;34m\u001b[0m\u001b[0m\n\u001b[0m\u001b[1;32m    111\u001b[0m \u001b[0;34m\u001b[0m\u001b[0m\n\u001b[1;32m    112\u001b[0m         \u001b[0;32melse\u001b[0m\u001b[0;34m:\u001b[0m\u001b[0;34m\u001b[0m\u001b[0;34m\u001b[0m\u001b[0m\n",
      "\u001b[0;32m~/NF-Capstone-Crop-Classification/tile_utils.py\u001b[0m in \u001b[0;36mclose_tiles_label_dist\u001b[0;34m(row, tiles)\u001b[0m\n\u001b[1;32m    124\u001b[0m     \u001b[0;32mif\u001b[0m \u001b[0mlen\u001b[0m\u001b[0;34m(\u001b[0m\u001b[0mrow\u001b[0m\u001b[0;34m.\u001b[0m\u001b[0mtiles_closest\u001b[0m\u001b[0;34m)\u001b[0m \u001b[0;34m>\u001b[0m \u001b[0;36m0\u001b[0m\u001b[0;34m:\u001b[0m\u001b[0;34m\u001b[0m\u001b[0;34m\u001b[0m\u001b[0m\n\u001b[1;32m    125\u001b[0m         \u001b[0;32mfor\u001b[0m \u001b[0mtile_id\u001b[0m \u001b[0;32min\u001b[0m \u001b[0mrow\u001b[0m\u001b[0;34m.\u001b[0m\u001b[0mtiles_closest\u001b[0m\u001b[0;34m:\u001b[0m\u001b[0;34m\u001b[0m\u001b[0;34m\u001b[0m\u001b[0m\n\u001b[0;32m--> 126\u001b[0;31m             \u001b[0mtile_label_dist\u001b[0m \u001b[0;34m=\u001b[0m \u001b[0mtiles\u001b[0m\u001b[0;34m.\u001b[0m\u001b[0mquery\u001b[0m\u001b[0;34m(\u001b[0m\u001b[0;34m'tile_id == @tile_id'\u001b[0m\u001b[0;34m)\u001b[0m\u001b[0;34m.\u001b[0m\u001b[0mtile_label_dist\u001b[0m\u001b[0;34m.\u001b[0m\u001b[0mreset_index\u001b[0m\u001b[0;34m(\u001b[0m\u001b[0;34m)\u001b[0m\u001b[0;34m.\u001b[0m\u001b[0miloc\u001b[0m\u001b[0;34m[\u001b[0m\u001b[0;36m0\u001b[0m\u001b[0;34m,\u001b[0m\u001b[0;36m1\u001b[0m\u001b[0;34m]\u001b[0m\u001b[0;34m\u001b[0m\u001b[0;34m\u001b[0m\u001b[0m\n\u001b[0m\u001b[1;32m    127\u001b[0m             \u001b[0mprint\u001b[0m\u001b[0;34m(\u001b[0m\u001b[0mtile_label_dist\u001b[0m\u001b[0;34m)\u001b[0m\u001b[0;34m\u001b[0m\u001b[0;34m\u001b[0m\u001b[0m\n\u001b[1;32m    128\u001b[0m             \u001b[0;32mfor\u001b[0m \u001b[0mlabel\u001b[0m \u001b[0;32min\u001b[0m \u001b[0mrange\u001b[0m\u001b[0;34m(\u001b[0m\u001b[0;36m1\u001b[0m\u001b[0;34m,\u001b[0m \u001b[0;36m10\u001b[0m\u001b[0;34m)\u001b[0m\u001b[0;34m:\u001b[0m\u001b[0;34m\u001b[0m\u001b[0;34m\u001b[0m\u001b[0m\n",
      "\u001b[0;32m/opt/conda/lib/python3.7/site-packages/pandas/core/frame.py\u001b[0m in \u001b[0;36mquery\u001b[0;34m(self, expr, inplace, **kwargs)\u001b[0m\n\u001b[1;32m   3470\u001b[0m \u001b[0;34m\u001b[0m\u001b[0m\n\u001b[1;32m   3471\u001b[0m         \u001b[0;32mtry\u001b[0m\u001b[0;34m:\u001b[0m\u001b[0;34m\u001b[0m\u001b[0;34m\u001b[0m\u001b[0m\n\u001b[0;32m-> 3472\u001b[0;31m             \u001b[0mresult\u001b[0m \u001b[0;34m=\u001b[0m \u001b[0mself\u001b[0m\u001b[0;34m.\u001b[0m\u001b[0mloc\u001b[0m\u001b[0;34m[\u001b[0m\u001b[0mres\u001b[0m\u001b[0;34m]\u001b[0m\u001b[0;34m\u001b[0m\u001b[0;34m\u001b[0m\u001b[0m\n\u001b[0m\u001b[1;32m   3473\u001b[0m         \u001b[0;32mexcept\u001b[0m \u001b[0mValueError\u001b[0m\u001b[0;34m:\u001b[0m\u001b[0;34m\u001b[0m\u001b[0;34m\u001b[0m\u001b[0m\n\u001b[1;32m   3474\u001b[0m             \u001b[0;31m# when res is multi-dimensional loc raises, but this is sometimes a\u001b[0m\u001b[0;34m\u001b[0m\u001b[0;34m\u001b[0m\u001b[0;34m\u001b[0m\u001b[0m\n",
      "\u001b[0;32m/opt/conda/lib/python3.7/site-packages/pandas/core/indexing.py\u001b[0m in \u001b[0;36m__getitem__\u001b[0;34m(self, key)\u001b[0m\n\u001b[1;32m    893\u001b[0m \u001b[0;34m\u001b[0m\u001b[0m\n\u001b[1;32m    894\u001b[0m             \u001b[0mmaybe_callable\u001b[0m \u001b[0;34m=\u001b[0m \u001b[0mcom\u001b[0m\u001b[0;34m.\u001b[0m\u001b[0mapply_if_callable\u001b[0m\u001b[0;34m(\u001b[0m\u001b[0mkey\u001b[0m\u001b[0;34m,\u001b[0m \u001b[0mself\u001b[0m\u001b[0;34m.\u001b[0m\u001b[0mobj\u001b[0m\u001b[0;34m)\u001b[0m\u001b[0;34m\u001b[0m\u001b[0;34m\u001b[0m\u001b[0m\n\u001b[0;32m--> 895\u001b[0;31m             \u001b[0;32mreturn\u001b[0m \u001b[0mself\u001b[0m\u001b[0;34m.\u001b[0m\u001b[0m_getitem_axis\u001b[0m\u001b[0;34m(\u001b[0m\u001b[0mmaybe_callable\u001b[0m\u001b[0;34m,\u001b[0m \u001b[0maxis\u001b[0m\u001b[0;34m=\u001b[0m\u001b[0maxis\u001b[0m\u001b[0;34m)\u001b[0m\u001b[0;34m\u001b[0m\u001b[0;34m\u001b[0m\u001b[0m\n\u001b[0m\u001b[1;32m    896\u001b[0m \u001b[0;34m\u001b[0m\u001b[0m\n\u001b[1;32m    897\u001b[0m     \u001b[0;32mdef\u001b[0m \u001b[0m_is_scalar_access\u001b[0m\u001b[0;34m(\u001b[0m\u001b[0mself\u001b[0m\u001b[0;34m,\u001b[0m \u001b[0mkey\u001b[0m\u001b[0;34m:\u001b[0m \u001b[0mTuple\u001b[0m\u001b[0;34m)\u001b[0m\u001b[0;34m:\u001b[0m\u001b[0;34m\u001b[0m\u001b[0;34m\u001b[0m\u001b[0m\n",
      "\u001b[0;32m/opt/conda/lib/python3.7/site-packages/pandas/core/indexing.py\u001b[0m in \u001b[0;36m_getitem_axis\u001b[0;34m(self, key, axis)\u001b[0m\n\u001b[1;32m   1102\u001b[0m             \u001b[0;32mreturn\u001b[0m \u001b[0mself\u001b[0m\u001b[0;34m.\u001b[0m\u001b[0m_get_slice_axis\u001b[0m\u001b[0;34m(\u001b[0m\u001b[0mkey\u001b[0m\u001b[0;34m,\u001b[0m \u001b[0maxis\u001b[0m\u001b[0;34m=\u001b[0m\u001b[0maxis\u001b[0m\u001b[0;34m)\u001b[0m\u001b[0;34m\u001b[0m\u001b[0;34m\u001b[0m\u001b[0m\n\u001b[1;32m   1103\u001b[0m         \u001b[0;32melif\u001b[0m \u001b[0mcom\u001b[0m\u001b[0;34m.\u001b[0m\u001b[0mis_bool_indexer\u001b[0m\u001b[0;34m(\u001b[0m\u001b[0mkey\u001b[0m\u001b[0;34m)\u001b[0m\u001b[0;34m:\u001b[0m\u001b[0;34m\u001b[0m\u001b[0;34m\u001b[0m\u001b[0m\n\u001b[0;32m-> 1104\u001b[0;31m             \u001b[0;32mreturn\u001b[0m \u001b[0mself\u001b[0m\u001b[0;34m.\u001b[0m\u001b[0m_getbool_axis\u001b[0m\u001b[0;34m(\u001b[0m\u001b[0mkey\u001b[0m\u001b[0;34m,\u001b[0m \u001b[0maxis\u001b[0m\u001b[0;34m=\u001b[0m\u001b[0maxis\u001b[0m\u001b[0;34m)\u001b[0m\u001b[0;34m\u001b[0m\u001b[0;34m\u001b[0m\u001b[0m\n\u001b[0m\u001b[1;32m   1105\u001b[0m         \u001b[0;32melif\u001b[0m \u001b[0mis_list_like_indexer\u001b[0m\u001b[0;34m(\u001b[0m\u001b[0mkey\u001b[0m\u001b[0;34m)\u001b[0m\u001b[0;34m:\u001b[0m\u001b[0;34m\u001b[0m\u001b[0;34m\u001b[0m\u001b[0m\n\u001b[1;32m   1106\u001b[0m \u001b[0;34m\u001b[0m\u001b[0m\n",
      "\u001b[0;32m/opt/conda/lib/python3.7/site-packages/pandas/core/indexing.py\u001b[0m in \u001b[0;36m_getbool_axis\u001b[0;34m(self, key, axis)\u001b[0m\n\u001b[1;32m    912\u001b[0m         \u001b[0mkey\u001b[0m \u001b[0;34m=\u001b[0m \u001b[0mcheck_bool_indexer\u001b[0m\u001b[0;34m(\u001b[0m\u001b[0mlabels\u001b[0m\u001b[0;34m,\u001b[0m \u001b[0mkey\u001b[0m\u001b[0;34m)\u001b[0m\u001b[0;34m\u001b[0m\u001b[0;34m\u001b[0m\u001b[0m\n\u001b[1;32m    913\u001b[0m         \u001b[0minds\u001b[0m \u001b[0;34m=\u001b[0m \u001b[0mkey\u001b[0m\u001b[0;34m.\u001b[0m\u001b[0mnonzero\u001b[0m\u001b[0;34m(\u001b[0m\u001b[0;34m)\u001b[0m\u001b[0;34m[\u001b[0m\u001b[0;36m0\u001b[0m\u001b[0;34m]\u001b[0m\u001b[0;34m\u001b[0m\u001b[0;34m\u001b[0m\u001b[0m\n\u001b[0;32m--> 914\u001b[0;31m         \u001b[0;32mreturn\u001b[0m \u001b[0mself\u001b[0m\u001b[0;34m.\u001b[0m\u001b[0mobj\u001b[0m\u001b[0;34m.\u001b[0m\u001b[0m_take_with_is_copy\u001b[0m\u001b[0;34m(\u001b[0m\u001b[0minds\u001b[0m\u001b[0;34m,\u001b[0m \u001b[0maxis\u001b[0m\u001b[0;34m=\u001b[0m\u001b[0maxis\u001b[0m\u001b[0;34m)\u001b[0m\u001b[0;34m\u001b[0m\u001b[0;34m\u001b[0m\u001b[0m\n\u001b[0m\u001b[1;32m    915\u001b[0m \u001b[0;34m\u001b[0m\u001b[0m\n\u001b[1;32m    916\u001b[0m \u001b[0;34m\u001b[0m\u001b[0m\n",
      "\u001b[0;32m/opt/conda/lib/python3.7/site-packages/pandas/core/generic.py\u001b[0m in \u001b[0;36m_take_with_is_copy\u001b[0;34m(self, indices, axis)\u001b[0m\n\u001b[1;32m   3598\u001b[0m         \u001b[0mSee\u001b[0m \u001b[0mthe\u001b[0m \u001b[0mdocstring\u001b[0m \u001b[0mof\u001b[0m\u001b[0;31m \u001b[0m\u001b[0;31m`\u001b[0m\u001b[0mtake\u001b[0m\u001b[0;31m`\u001b[0m \u001b[0;32mfor\u001b[0m \u001b[0mfull\u001b[0m \u001b[0mexplanation\u001b[0m \u001b[0mof\u001b[0m \u001b[0mthe\u001b[0m \u001b[0mparameters\u001b[0m\u001b[0;34m.\u001b[0m\u001b[0;34m\u001b[0m\u001b[0;34m\u001b[0m\u001b[0m\n\u001b[1;32m   3599\u001b[0m         \"\"\"\n\u001b[0;32m-> 3600\u001b[0;31m         \u001b[0mresult\u001b[0m \u001b[0;34m=\u001b[0m \u001b[0mself\u001b[0m\u001b[0;34m.\u001b[0m\u001b[0mtake\u001b[0m\u001b[0;34m(\u001b[0m\u001b[0mindices\u001b[0m\u001b[0;34m=\u001b[0m\u001b[0mindices\u001b[0m\u001b[0;34m,\u001b[0m \u001b[0maxis\u001b[0m\u001b[0;34m=\u001b[0m\u001b[0maxis\u001b[0m\u001b[0;34m)\u001b[0m\u001b[0;34m\u001b[0m\u001b[0;34m\u001b[0m\u001b[0m\n\u001b[0m\u001b[1;32m   3601\u001b[0m         \u001b[0;31m# Maybe set copy if we didn't actually change the index.\u001b[0m\u001b[0;34m\u001b[0m\u001b[0;34m\u001b[0m\u001b[0;34m\u001b[0m\u001b[0m\n\u001b[1;32m   3602\u001b[0m         \u001b[0;32mif\u001b[0m \u001b[0;32mnot\u001b[0m \u001b[0mresult\u001b[0m\u001b[0;34m.\u001b[0m\u001b[0m_get_axis\u001b[0m\u001b[0;34m(\u001b[0m\u001b[0maxis\u001b[0m\u001b[0;34m)\u001b[0m\u001b[0;34m.\u001b[0m\u001b[0mequals\u001b[0m\u001b[0;34m(\u001b[0m\u001b[0mself\u001b[0m\u001b[0;34m.\u001b[0m\u001b[0m_get_axis\u001b[0m\u001b[0;34m(\u001b[0m\u001b[0maxis\u001b[0m\u001b[0;34m)\u001b[0m\u001b[0;34m)\u001b[0m\u001b[0;34m:\u001b[0m\u001b[0;34m\u001b[0m\u001b[0;34m\u001b[0m\u001b[0m\n",
      "\u001b[0;32m/opt/conda/lib/python3.7/site-packages/pandas/core/generic.py\u001b[0m in \u001b[0;36mtake\u001b[0;34m(self, indices, axis, is_copy, **kwargs)\u001b[0m\n\u001b[1;32m   3587\u001b[0m             \u001b[0mindices\u001b[0m\u001b[0;34m,\u001b[0m \u001b[0maxis\u001b[0m\u001b[0;34m=\u001b[0m\u001b[0mself\u001b[0m\u001b[0;34m.\u001b[0m\u001b[0m_get_block_manager_axis\u001b[0m\u001b[0;34m(\u001b[0m\u001b[0maxis\u001b[0m\u001b[0;34m)\u001b[0m\u001b[0;34m,\u001b[0m \u001b[0mverify\u001b[0m\u001b[0;34m=\u001b[0m\u001b[0;32mTrue\u001b[0m\u001b[0;34m\u001b[0m\u001b[0;34m\u001b[0m\u001b[0m\n\u001b[1;32m   3588\u001b[0m         )\n\u001b[0;32m-> 3589\u001b[0;31m         \u001b[0;32mreturn\u001b[0m \u001b[0mself\u001b[0m\u001b[0;34m.\u001b[0m\u001b[0m_constructor\u001b[0m\u001b[0;34m(\u001b[0m\u001b[0mnew_data\u001b[0m\u001b[0;34m)\u001b[0m\u001b[0;34m.\u001b[0m\u001b[0m__finalize__\u001b[0m\u001b[0;34m(\u001b[0m\u001b[0mself\u001b[0m\u001b[0;34m,\u001b[0m \u001b[0mmethod\u001b[0m\u001b[0;34m=\u001b[0m\u001b[0;34m\"take\"\u001b[0m\u001b[0;34m)\u001b[0m\u001b[0;34m\u001b[0m\u001b[0;34m\u001b[0m\u001b[0m\n\u001b[0m\u001b[1;32m   3590\u001b[0m \u001b[0;34m\u001b[0m\u001b[0m\n\u001b[1;32m   3591\u001b[0m     \u001b[0;34m@\u001b[0m\u001b[0mfinal\u001b[0m\u001b[0;34m\u001b[0m\u001b[0;34m\u001b[0m\u001b[0m\n",
      "\u001b[0;32m/opt/conda/lib/python3.7/site-packages/geopandas/geodataframe.py\u001b[0m in \u001b[0;36m__init__\u001b[0;34m(self, geometry, crs, *args, **kwargs)\u001b[0m\n\u001b[1;32m    165\u001b[0m                 )\n\u001b[1;32m    166\u001b[0m                 \u001b[0;31m# TODO: raise error in 0.9 or 0.10.\u001b[0m\u001b[0;34m\u001b[0m\u001b[0;34m\u001b[0m\u001b[0;34m\u001b[0m\u001b[0m\n\u001b[0;32m--> 167\u001b[0;31m             \u001b[0mself\u001b[0m\u001b[0;34m.\u001b[0m\u001b[0mset_geometry\u001b[0m\u001b[0;34m(\u001b[0m\u001b[0mgeometry\u001b[0m\u001b[0;34m,\u001b[0m \u001b[0minplace\u001b[0m\u001b[0;34m=\u001b[0m\u001b[0;32mTrue\u001b[0m\u001b[0;34m)\u001b[0m\u001b[0;34m\u001b[0m\u001b[0;34m\u001b[0m\u001b[0m\n\u001b[0m\u001b[1;32m    168\u001b[0m \u001b[0;34m\u001b[0m\u001b[0m\n\u001b[1;32m    169\u001b[0m         \u001b[0;32mif\u001b[0m \u001b[0mgeometry\u001b[0m \u001b[0;32mis\u001b[0m \u001b[0;32mNone\u001b[0m \u001b[0;32mand\u001b[0m \u001b[0mcrs\u001b[0m\u001b[0;34m:\u001b[0m\u001b[0;34m\u001b[0m\u001b[0;34m\u001b[0m\u001b[0m\n",
      "\u001b[0;32m/opt/conda/lib/python3.7/site-packages/geopandas/geodataframe.py\u001b[0m in \u001b[0;36mset_geometry\u001b[0;34m(self, col, drop, inplace, crs)\u001b[0m\n\u001b[1;32m    287\u001b[0m             \u001b[0mcrs\u001b[0m \u001b[0;34m=\u001b[0m \u001b[0mlevel_crs\u001b[0m \u001b[0;32mif\u001b[0m \u001b[0mlevel_crs\u001b[0m \u001b[0;32mis\u001b[0m \u001b[0;32mnot\u001b[0m \u001b[0;32mNone\u001b[0m \u001b[0;32melse\u001b[0m \u001b[0mself\u001b[0m\u001b[0;34m.\u001b[0m\u001b[0m_crs\u001b[0m\u001b[0;34m\u001b[0m\u001b[0;34m\u001b[0m\u001b[0m\n\u001b[1;32m    288\u001b[0m \u001b[0;34m\u001b[0m\u001b[0m\n\u001b[0;32m--> 289\u001b[0;31m         \u001b[0;32mif\u001b[0m \u001b[0misinstance\u001b[0m\u001b[0;34m(\u001b[0m\u001b[0mlevel\u001b[0m\u001b[0;34m,\u001b[0m \u001b[0;34m(\u001b[0m\u001b[0mGeoSeries\u001b[0m\u001b[0;34m,\u001b[0m \u001b[0mGeometryArray\u001b[0m\u001b[0;34m)\u001b[0m\u001b[0;34m)\u001b[0m \u001b[0;32mand\u001b[0m \u001b[0mlevel\u001b[0m\u001b[0;34m.\u001b[0m\u001b[0mcrs\u001b[0m \u001b[0;34m!=\u001b[0m \u001b[0mcrs\u001b[0m\u001b[0;34m:\u001b[0m\u001b[0;34m\u001b[0m\u001b[0;34m\u001b[0m\u001b[0m\n\u001b[0m\u001b[1;32m    290\u001b[0m             \u001b[0;31m# Avoids caching issues/crs sharing issues\u001b[0m\u001b[0;34m\u001b[0m\u001b[0;34m\u001b[0m\u001b[0;34m\u001b[0m\u001b[0m\n\u001b[1;32m    291\u001b[0m             \u001b[0mlevel\u001b[0m \u001b[0;34m=\u001b[0m \u001b[0mlevel\u001b[0m\u001b[0;34m.\u001b[0m\u001b[0mcopy\u001b[0m\u001b[0;34m(\u001b[0m\u001b[0;34m)\u001b[0m\u001b[0;34m\u001b[0m\u001b[0;34m\u001b[0m\u001b[0m\n",
      "\u001b[0;32m/opt/conda/lib/python3.7/site-packages/pyproj/crs/crs.py\u001b[0m in \u001b[0;36m__eq__\u001b[0;34m(self, other)\u001b[0m\n\u001b[1;32m   1412\u001b[0m \u001b[0;34m\u001b[0m\u001b[0m\n\u001b[1;32m   1413\u001b[0m     \u001b[0;32mdef\u001b[0m \u001b[0m__eq__\u001b[0m\u001b[0;34m(\u001b[0m\u001b[0mself\u001b[0m\u001b[0;34m,\u001b[0m \u001b[0mother\u001b[0m\u001b[0;34m:\u001b[0m \u001b[0mAny\u001b[0m\u001b[0;34m)\u001b[0m \u001b[0;34m->\u001b[0m \u001b[0mbool\u001b[0m\u001b[0;34m:\u001b[0m\u001b[0;34m\u001b[0m\u001b[0;34m\u001b[0m\u001b[0m\n\u001b[0;32m-> 1414\u001b[0;31m         \u001b[0;32mreturn\u001b[0m \u001b[0mself\u001b[0m\u001b[0;34m.\u001b[0m\u001b[0mequals\u001b[0m\u001b[0;34m(\u001b[0m\u001b[0mother\u001b[0m\u001b[0;34m)\u001b[0m\u001b[0;34m\u001b[0m\u001b[0;34m\u001b[0m\u001b[0m\n\u001b[0m\u001b[1;32m   1415\u001b[0m \u001b[0;34m\u001b[0m\u001b[0m\n\u001b[1;32m   1416\u001b[0m     \u001b[0;32mdef\u001b[0m \u001b[0m__reduce__\u001b[0m\u001b[0;34m(\u001b[0m\u001b[0mself\u001b[0m\u001b[0;34m)\u001b[0m \u001b[0;34m->\u001b[0m \u001b[0mTuple\u001b[0m\u001b[0;34m[\u001b[0m\u001b[0mType\u001b[0m\u001b[0;34m[\u001b[0m\u001b[0;34m\"CRS\"\u001b[0m\u001b[0;34m]\u001b[0m\u001b[0;34m,\u001b[0m \u001b[0mTuple\u001b[0m\u001b[0;34m[\u001b[0m\u001b[0mstr\u001b[0m\u001b[0;34m]\u001b[0m\u001b[0;34m]\u001b[0m\u001b[0;34m:\u001b[0m\u001b[0;34m\u001b[0m\u001b[0;34m\u001b[0m\u001b[0m\n",
      "\u001b[0;32m/opt/conda/lib/python3.7/site-packages/pyproj/crs/crs.py\u001b[0m in \u001b[0;36mequals\u001b[0;34m(self, other, ignore_axis_order)\u001b[0m\n\u001b[1;32m    931\u001b[0m         \u001b[0;32mexcept\u001b[0m \u001b[0mCRSError\u001b[0m\u001b[0;34m:\u001b[0m\u001b[0;34m\u001b[0m\u001b[0;34m\u001b[0m\u001b[0m\n\u001b[1;32m    932\u001b[0m             \u001b[0;32mreturn\u001b[0m \u001b[0;32mFalse\u001b[0m\u001b[0;34m\u001b[0m\u001b[0;34m\u001b[0m\u001b[0m\n\u001b[0;32m--> 933\u001b[0;31m         \u001b[0;32mreturn\u001b[0m \u001b[0mself\u001b[0m\u001b[0;34m.\u001b[0m\u001b[0m_crs\u001b[0m\u001b[0;34m.\u001b[0m\u001b[0mequals\u001b[0m\u001b[0;34m(\u001b[0m\u001b[0mother\u001b[0m\u001b[0;34m.\u001b[0m\u001b[0m_crs\u001b[0m\u001b[0;34m,\u001b[0m \u001b[0mignore_axis_order\u001b[0m\u001b[0;34m=\u001b[0m\u001b[0mignore_axis_order\u001b[0m\u001b[0;34m)\u001b[0m\u001b[0;34m\u001b[0m\u001b[0;34m\u001b[0m\u001b[0m\n\u001b[0m\u001b[1;32m    934\u001b[0m \u001b[0;34m\u001b[0m\u001b[0m\n\u001b[1;32m    935\u001b[0m     \u001b[0;34m@\u001b[0m\u001b[0mproperty\u001b[0m\u001b[0;34m\u001b[0m\u001b[0;34m\u001b[0m\u001b[0m\n",
      "\u001b[0;31mKeyboardInterrupt\u001b[0m: "
     ]
    }
   ],
   "source": [
    "tiles_train['close_label_dist'] = tiles_train.apply(tilu.close_tiles_label_dist, axis='columns', args=(tiles_train,))"
   ]
  },
  {
   "cell_type": "code",
   "execution_count": null,
   "id": "63873aad",
   "metadata": {},
   "outputs": [],
   "source": [
    "tiles_train.to_file('data/tiles_train.geojson', driver='GeoJSON')"
   ]
  },
  {
   "cell_type": "code",
   "execution_count": 82,
   "id": "130cef2e",
   "metadata": {},
   "outputs": [
    {
     "name": "stdout",
     "output_type": "stream",
     "text": [
      "1137\n"
     ]
    }
   ],
   "source": [
    "sunny_test = tilu.create_sunny_df(assets_test_df)\n",
    "tiles_test = tiles_test.merge(sunny_test, how='inner', on='tile_id')"
   ]
  },
  {
   "cell_type": "code",
   "execution_count": 113,
   "id": "29eb3904",
   "metadata": {},
   "outputs": [],
   "source": [
    "tiles_train = tilu.read_tile_geojson('data/tiles_train.geojson')\n",
    "tiles_train_crs32634 = tiles_train.to_crs(32634)\n",
    "tiles_test_crs32634 = tiles_test.to_crs(32634)\n",
    "\n",
    "# apply with a threshold of 4000m\n",
    "tiles_test['tiles_closest'] = tiles_test_crs32634.apply(tilu.tiles_closest, axis='columns', args=(tiles_train_crs32634, 4000,))"
   ]
  },
  {
   "cell_type": "markdown",
   "id": "b416de8d",
   "metadata": {},
   "source": [
    "and the most common crops in them"
   ]
  },
  {
   "cell_type": "code",
   "execution_count": 172,
   "id": "df2be398",
   "metadata": {},
   "outputs": [
    {
     "name": "stdout",
     "output_type": "stream",
     "text": [
      "{1: 0.04711152011451889, 2: 0.24024846978583833, 3: 0.0038325189230621823, 4: 0.32966524291007876, 5: 0.0021786492374727667, 6: 0.2166936207408418, 7: 0.11857559292347486, 8: 0.041694385364712344, 9: 0.0}\n"
     ]
    }
   ],
   "source": [
    "tiles_test['close_label_dist'] = tiles_test.apply(tilu.close_tiles_label_dist, axis='columns', args=(tiles_train,))"
   ]
  },
  {
   "cell_type": "code",
   "execution_count": 175,
   "id": "0ffa1d0e",
   "metadata": {},
   "outputs": [],
   "source": [
    "tiles_test.to_file('data/tiles_test.geojson', driver='GeoJSON')"
   ]
  },
  {
   "cell_type": "markdown",
   "id": "8b677faa",
   "metadata": {},
   "source": [
    "## 4. Stack Sentinel 2 Channels"
   ]
  },
  {
   "cell_type": "code",
   "execution_count": 193,
   "id": "9fe10b0b",
   "metadata": {},
   "outputs": [
    {
     "data": {
      "text/plain": [
       "<module 'stack_utils' from '/home/jupyter/NF-Capstone-Crop-Classification/stack_utils.py'>"
      ]
     },
     "execution_count": 193,
     "metadata": {},
     "output_type": "execute_result"
    }
   ],
   "source": [
    "import stack_utils as stul\n",
    "importlib.reload(stul)"
   ]
  },
  {
   "cell_type": "code",
   "execution_count": 194,
   "id": "ea4ee380",
   "metadata": {},
   "outputs": [],
   "source": [
    "assets_train_df = pd.read_csv('data/assets_train.csv')\n",
    "assets_test_df = pd.read_csv('data/assets_test.csv')"
   ]
  },
  {
   "cell_type": "code",
   "execution_count": 195,
   "id": "b8d02984",
   "metadata": {},
   "outputs": [],
   "source": [
    "tiles_train = tilu.read_tile_geojson('data/tiles_train.geojson')\n",
    "tiles_test = tilu.read_tile_geojson('data/tiles_test.geojson')"
   ]
  },
  {
   "cell_type": "code",
   "execution_count": null,
   "id": "e10dcc94",
   "metadata": {},
   "outputs": [],
   "source": [
    "num_days = 16\n",
    "satellite = \"s2\"\n",
    "\n",
    "assets_stacked_8days_train = stul.create_stacked_s2(assets_train_df ,tiles_train,)\n",
    "assets_stacked_8days_train.to_csv('data/assets_stacked_8days_train.csv')"
   ]
  },
  {
   "cell_type": "code",
   "execution_count": 196,
   "id": "7b148a3c",
   "metadata": {},
   "outputs": [
    {
     "name": "stdout",
     "output_type": "stream",
     "text": [
      "947\n"
     ]
    }
   ],
   "source": [
    "assets_stacked_8days_test = stul.create_stacked_s2(assets_test_df ,tiles_test)\n",
    "assets_stacked_8days_test.to_csv('data/assets_stacked_8days_test.csv')"
   ]
  },
  {
   "cell_type": "markdown",
   "id": "f9c1a64d",
   "metadata": {},
   "source": [
    "## 5. Crop Fields and create Mean + Var"
   ]
  },
  {
   "cell_type": "code",
   "execution_count": 305,
   "id": "4c5fb8f7",
   "metadata": {},
   "outputs": [
    {
     "data": {
      "text/plain": [
       "<module 'crop_utils' from '/home/jupyter/NF-Capstone-Crop-Classification/crop_utils.py'>"
      ]
     },
     "execution_count": 305,
     "metadata": {},
     "output_type": "execute_result"
    }
   ],
   "source": [
    "import crop_utils as crul\n",
    "importlib.reload(crul)"
   ]
  },
  {
   "cell_type": "code",
   "execution_count": 295,
   "id": "76118440",
   "metadata": {},
   "outputs": [],
   "source": [
    "asset_test_df = assets_test_df = pd.read_csv('data/assets_test.csv')\n",
    "tiles_test = tilu.read_tile_geojson('data/tiles_test.geojson')\n",
    "fields_test = gpd.read_file('data/fields_test.geojson')\n",
    "assets_stacked_8days_test = pd.read_csv('data/assets_stacked_8days_test.csv')"
   ]
  },
  {
   "cell_type": "code",
   "execution_count": null,
   "id": "4a5aba29",
   "metadata": {},
   "outputs": [],
   "source": [
    "train_mean_var = crul.create_mean_var(assets_train_df, assets_stacked_8days_train, fields_test, tiles_train)\n",
    "train_mean_var.to_csv('data/mean_var_8days_train.csv', index=False)"
   ]
  },
  {
   "cell_type": "code",
   "execution_count": 307,
   "id": "eacfda97",
   "metadata": {},
   "outputs": [],
   "source": [
    "test_mean_var = crul.create_mean_var(assets_test_df, assets_stacked_8days_test, fields_test, tiles_test)\n",
    "test_mean_var.to_csv('data/mean_var_8days_test.csv', index=False)"
   ]
  },
  {
   "cell_type": "code",
   "execution_count": null,
   "id": "d9ea4dc4",
   "metadata": {},
   "outputs": [],
   "source": []
  }
 ],
 "metadata": {
  "environment": {
   "name": "tf2-gpu.2-3.m74",
   "type": "gcloud",
   "uri": "gcr.io/deeplearning-platform-release/tf2-gpu.2-3:m74"
  },
  "kernelspec": {
   "display_name": "Python 3",
   "language": "python",
   "name": "python3"
  },
  "language_info": {
   "codemirror_mode": {
    "name": "ipython",
    "version": 3
   },
   "file_extension": ".py",
   "mimetype": "text/x-python",
   "name": "python",
   "nbconvert_exporter": "python",
   "pygments_lexer": "ipython3",
   "version": "3.7.10"
  }
 },
 "nbformat": 4,
 "nbformat_minor": 5
}
