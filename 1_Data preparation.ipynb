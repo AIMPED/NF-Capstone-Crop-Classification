{
 "cells": [
  {
   "cell_type": "code",
   "execution_count": 4,
   "id": "348d98f0",
   "metadata": {},
   "outputs": [],
   "source": [
    "import datetime\n",
    "import rasterio\n",
    "import numpy as np\n",
    "import pandas as pd\n",
    "import geopandas as gpd"
   ]
  },
  {
   "cell_type": "markdown",
   "id": "7d287cde",
   "metadata": {},
   "source": [
    "## 1. List of assets from Radiant MLHub\n",
    "\n",
    "\n",
    "The Radiant MLHub API gives access to open Earth imagery training data for machine learning applications. You can learn more about the repository at the [Radiant MLHub site](https://mlhub.earth) and about the organization behind it at the [Radiant Earth Foundation site](https://radiant.earth).\n",
    "\n",
    "Full documentation for the API is available at [docs.mlhub.earth](docs.mlhub.earth).\n",
    "\n",
    "Each item in our collection is explained in json format compliant with [STAC](https://stacspec.org/) [label extension](https://github.com/radiantearth/stac-spec/tree/master/extensions/label) definition.\n",
    "\n",
    "We create a DataFrame that sumarizes all the different assets."
   ]
  },
  {
   "cell_type": "code",
   "execution_count": 5,
   "id": "ecd5e057",
   "metadata": {},
   "outputs": [],
   "source": [
    "import importlib\n",
    "import create_asset_files as crass\n",
    "importlib.reload(crass)\n",
    "\n",
    "labels_path = {\"train\": 'ref_south_africa_crops_competition_v1_train_labels',\n",
    "              \"test\": 'ref_south_africa_crops_competition_v1_test_labels'}"
   ]
  },
  {
   "cell_type": "code",
   "execution_count": 3,
   "id": "c1744c15",
   "metadata": {},
   "outputs": [
    {
     "name": "stdout",
     "output_type": "stream",
     "text": [
      "Procesing 1 of 2650\n"
     ]
    },
    {
     "ename": "NameError",
     "evalue": "name 'os' is not defined",
     "output_type": "error",
     "traceback": [
      "\u001b[0;31m---------------------------------------------------------------------------\u001b[0m",
      "\u001b[0;31mNameError\u001b[0m                                 Traceback (most recent call last)",
      "\u001b[0;32m<ipython-input-3-74b01337aed5>\u001b[0m in \u001b[0;36m<module>\u001b[0;34m\u001b[0m\n\u001b[1;32m      1\u001b[0m \u001b[0;31m# creating asset collection for the train set\u001b[0m\u001b[0;34m\u001b[0m\u001b[0;34m\u001b[0m\u001b[0;34m\u001b[0m\u001b[0m\n\u001b[1;32m      2\u001b[0m \u001b[0mcase\u001b[0m \u001b[0;34m=\u001b[0m \u001b[0;34m\"train\"\u001b[0m\u001b[0;34m\u001b[0m\u001b[0;34m\u001b[0m\u001b[0m\n\u001b[0;32m----> 3\u001b[0;31m \u001b[0massets_train_df\u001b[0m \u001b[0;34m=\u001b[0m \u001b[0mcrass\u001b[0m\u001b[0;34m.\u001b[0m\u001b[0mcreate_assets\u001b[0m\u001b[0;34m(\u001b[0m\u001b[0mlabels_path\u001b[0m\u001b[0;34m[\u001b[0m\u001b[0mcase\u001b[0m\u001b[0;34m]\u001b[0m\u001b[0;34m)\u001b[0m\u001b[0;34m\u001b[0m\u001b[0;34m\u001b[0m\u001b[0m\n\u001b[0m\u001b[1;32m      4\u001b[0m \u001b[0;34m\u001b[0m\u001b[0m\n\u001b[1;32m      5\u001b[0m \u001b[0massets_train_df\u001b[0m\u001b[0;34m.\u001b[0m\u001b[0mdatetime\u001b[0m \u001b[0;34m=\u001b[0m \u001b[0mpd\u001b[0m\u001b[0;34m.\u001b[0m\u001b[0mto_datetime\u001b[0m\u001b[0;34m(\u001b[0m\u001b[0massets_train_df\u001b[0m\u001b[0;34m.\u001b[0m\u001b[0mdatetime\u001b[0m\u001b[0;34m)\u001b[0m\u001b[0;34m\u001b[0m\u001b[0;34m\u001b[0m\u001b[0m\n",
      "\u001b[0;32m~/NF-Capstone-Crop-Classification/create_asset_files.py\u001b[0m in \u001b[0;36mcreate_assets\u001b[0;34m(collection_id)\u001b[0m\n\u001b[1;32m     43\u001b[0m         \u001b[0mprint\u001b[0m\u001b[0;34m(\u001b[0m\u001b[0;34mf\"Procesing {counter} of {len(item_links)}\"\u001b[0m\u001b[0;34m)\u001b[0m\u001b[0;34m\u001b[0m\u001b[0;34m\u001b[0m\u001b[0m\n\u001b[1;32m     44\u001b[0m         \u001b[0mitem_path\u001b[0m \u001b[0;34m=\u001b[0m \u001b[0;34mf'{collection_id}/{item_link}'\u001b[0m\u001b[0;34m\u001b[0m\u001b[0;34m\u001b[0m\u001b[0m\n\u001b[0;32m---> 45\u001b[0;31m         \u001b[0mcurrent_path\u001b[0m \u001b[0;34m=\u001b[0m \u001b[0mos\u001b[0m\u001b[0;34m.\u001b[0m\u001b[0mpath\u001b[0m\u001b[0;34m.\u001b[0m\u001b[0mdirname\u001b[0m\u001b[0;34m(\u001b[0m\u001b[0mitem_path\u001b[0m\u001b[0;34m)\u001b[0m\u001b[0;34m\u001b[0m\u001b[0;34m\u001b[0m\u001b[0m\n\u001b[0m\u001b[1;32m     46\u001b[0m         \u001b[0mitem\u001b[0m \u001b[0;34m=\u001b[0m \u001b[0mjson\u001b[0m\u001b[0;34m.\u001b[0m\u001b[0mload\u001b[0m\u001b[0;34m(\u001b[0m\u001b[0mopen\u001b[0m\u001b[0;34m(\u001b[0m\u001b[0mitem_path\u001b[0m\u001b[0;34m,\u001b[0m \u001b[0;34m'r'\u001b[0m\u001b[0;34m)\u001b[0m\u001b[0;34m)\u001b[0m\u001b[0;34m\u001b[0m\u001b[0;34m\u001b[0m\u001b[0m\n\u001b[1;32m     47\u001b[0m         \u001b[0mtile_id\u001b[0m \u001b[0;34m=\u001b[0m \u001b[0mitem\u001b[0m\u001b[0;34m[\u001b[0m\u001b[0;34m'id'\u001b[0m\u001b[0;34m]\u001b[0m\u001b[0;34m.\u001b[0m\u001b[0msplit\u001b[0m\u001b[0;34m(\u001b[0m\u001b[0;34m'_'\u001b[0m\u001b[0;34m)\u001b[0m\u001b[0;34m[\u001b[0m\u001b[0;34m-\u001b[0m\u001b[0;36m1\u001b[0m\u001b[0;34m]\u001b[0m\u001b[0;34m\u001b[0m\u001b[0;34m\u001b[0m\u001b[0m\n",
      "\u001b[0;31mNameError\u001b[0m: name 'os' is not defined"
     ]
    }
   ],
   "source": [
    "# creating asset collection for the train set\n",
    "case = \"train\"\n",
    "assets_train_df = crass.create_assets(labels_path[case])\n",
    "\n",
    "assets_train_df.datetime = pd.to_datetime(assets_train_df.datetime)\n",
    "assets_train_df = assets_train_df.assign(\n",
    "    date = lambda x: x['datetime'].dt.date,\n",
    "    month = lambda x: x['datetime'].dt.month.astype('Int64'),\n",
    "    dayofyear = lambda x: x['datetime'].dt.dayofyear.astype('Int64'),\n",
    ")\n",
    "\n",
    "assets_train_df.tile_id = assets_train_df.tile_id.astype(int)\n",
    "assets_train_df.to_csv(f\"data/assets_{case}.csv\", index = False)\n",
    "print(f\"assets_{case}.csv was saved in /data\")\n",
    "assets_train_df.head()"
   ]
  },
  {
   "cell_type": "code",
   "execution_count": 41,
   "id": "1bb7d63d",
   "metadata": {},
   "outputs": [
    {
     "name": "stdout",
     "output_type": "stream",
     "text": [
      "Procesing 1137 of 1137\n",
      "assets_test.csv was saved in /data\n"
     ]
    }
   ],
   "source": [
    "# creating asset collection for the test set\n",
    "case = \"test\"\n",
    "assets_test_df = create_assets(labels_path[case])\n",
    "\n",
    "assets_test_df.datetime = pd.to_datetime(assets_test_df.datetime)\n",
    "assets_test_df = assets_test_df.assign(\n",
    "    date = lambda x: x['datetime'].dt.date,\n",
    "    month = lambda x: x['datetime'].dt.month.astype('Int64'),\n",
    "    dayofyear = lambda x: x['datetime'].dt.dayofyear.astype('Int64'),\n",
    ")\n",
    "\n",
    "assets_test_df.tile_id = assets_test_df.tile_id.astype(int)\n",
    "assets_test_df.to_csv(f\"data/assets_{case}.csv\", index = False)\n",
    "print(f\"assets_{case}.csv was saved in /data\")\n",
    "assets_test_df.head()"
   ]
  },
  {
   "cell_type": "markdown",
   "id": "ba53a530",
   "metadata": {},
   "source": [
    "## 2. Fields DataFrame"
   ]
  },
  {
   "cell_type": "markdown",
   "id": "a9009893",
   "metadata": {},
   "source": [
    "Now we want to generate a dataframe containing the inforatio of all the different fields."
   ]
  },
  {
   "cell_type": "code",
   "execution_count": 3,
   "id": "cf9c0626",
   "metadata": {},
   "outputs": [
    {
     "name": "stdout",
     "output_type": "stream",
     "text": [
      "Tile Nr. 341 of total 2650\n"
     ]
    },
    {
     "ename": "KeyboardInterrupt",
     "evalue": "",
     "output_type": "error",
     "traceback": [
      "\u001b[0;31m---------------------------------------------------------------------------\u001b[0m",
      "\u001b[0;31mKeyboardInterrupt\u001b[0m                         Traceback (most recent call last)",
      "\u001b[0;32m/tmp/ipykernel_24530/1076499235.py\u001b[0m in \u001b[0;36m<module>\u001b[0;34m\u001b[0m\n\u001b[1;32m      1\u001b[0m \u001b[0massets_train_df\u001b[0m \u001b[0;34m=\u001b[0m \u001b[0mpd\u001b[0m\u001b[0;34m.\u001b[0m\u001b[0mread_csv\u001b[0m\u001b[0;34m(\u001b[0m\u001b[0;34m'data/assets_train.csv'\u001b[0m\u001b[0;34m)\u001b[0m\u001b[0;34m\u001b[0m\u001b[0;34m\u001b[0m\u001b[0m\n\u001b[0;32m----> 2\u001b[0;31m \u001b[0mfields_train\u001b[0m \u001b[0;34m=\u001b[0m \u001b[0mcrass\u001b[0m\u001b[0;34m.\u001b[0m\u001b[0mcreate_field_list_train\u001b[0m\u001b[0;34m(\u001b[0m\u001b[0massets_train_df\u001b[0m\u001b[0;34m)\u001b[0m\u001b[0;34m\u001b[0m\u001b[0;34m\u001b[0m\u001b[0m\n\u001b[0m\u001b[1;32m      3\u001b[0m \u001b[0mfields_train\u001b[0m\u001b[0;34m.\u001b[0m\u001b[0mhead\u001b[0m\u001b[0;34m(\u001b[0m\u001b[0;34m)\u001b[0m\u001b[0;34m\u001b[0m\u001b[0;34m\u001b[0m\u001b[0m\n",
      "\u001b[0;32m~/NF-Capstone-Crop-Classification/create_asset_files.py\u001b[0m in \u001b[0;36mcreate_field_list_train\u001b[0;34m(assets_df)\u001b[0m\n\u001b[1;32m    114\u001b[0m             \u001b[0;31m# reference system to CRS84 (EPSG:4326).\u001b[0m\u001b[0;34m\u001b[0m\u001b[0;34m\u001b[0m\u001b[0;34m\u001b[0m\u001b[0m\n\u001b[1;32m    115\u001b[0m             geom = rasterio.warp.transform_geom(\n\u001b[0;32m--> 116\u001b[0;31m                 field_ids_rio.crs, 'EPSG:4326', geom, precision=6)\n\u001b[0m\u001b[1;32m    117\u001b[0m \u001b[0;34m\u001b[0m\u001b[0m\n\u001b[1;32m    118\u001b[0m             \u001b[0mfields_list\u001b[0m\u001b[0;34m.\u001b[0m\u001b[0mappend\u001b[0m\u001b[0;34m(\u001b[0m\u001b[0;34m[\u001b[0m\u001b[0mshape\u001b[0m\u001b[0;34m(\u001b[0m\u001b[0mgeom\u001b[0m\u001b[0;34m)\u001b[0m\u001b[0;34m,\u001b[0m \u001b[0mint\u001b[0m\u001b[0;34m(\u001b[0m\u001b[0mval\u001b[0m\u001b[0;34m)\u001b[0m\u001b[0;34m,\u001b[0m \u001b[0mround\u001b[0m\u001b[0;34m(\u001b[0m\u001b[0mnp\u001b[0m\u001b[0;34m.\u001b[0m\u001b[0mmean\u001b[0m\u001b[0;34m(\u001b[0m\u001b[0mlabels\u001b[0m\u001b[0;34m[\u001b[0m\u001b[0mfield_ids\u001b[0m \u001b[0;34m==\u001b[0m \u001b[0mval\u001b[0m\u001b[0;34m]\u001b[0m\u001b[0;34m)\u001b[0m\u001b[0;34m)\u001b[0m\u001b[0;34m,\u001b[0m \u001b[0mtile_id\u001b[0m\u001b[0;34m]\u001b[0m\u001b[0;34m)\u001b[0m\u001b[0;34m\u001b[0m\u001b[0;34m\u001b[0m\u001b[0m\n",
      "\u001b[0;32m/opt/conda/lib/python3.7/site-packages/rasterio/env.py\u001b[0m in \u001b[0;36mwrapper\u001b[0;34m(*args, **kwds)\u001b[0m\n\u001b[1;32m    385\u001b[0m         \u001b[0;32melse\u001b[0m\u001b[0;34m:\u001b[0m\u001b[0;34m\u001b[0m\u001b[0;34m\u001b[0m\u001b[0m\n\u001b[1;32m    386\u001b[0m             \u001b[0;32mwith\u001b[0m \u001b[0mEnv\u001b[0m\u001b[0;34m.\u001b[0m\u001b[0mfrom_defaults\u001b[0m\u001b[0;34m(\u001b[0m\u001b[0;34m)\u001b[0m\u001b[0;34m:\u001b[0m\u001b[0;34m\u001b[0m\u001b[0;34m\u001b[0m\u001b[0m\n\u001b[0;32m--> 387\u001b[0;31m                 \u001b[0;32mreturn\u001b[0m \u001b[0mf\u001b[0m\u001b[0;34m(\u001b[0m\u001b[0;34m*\u001b[0m\u001b[0margs\u001b[0m\u001b[0;34m,\u001b[0m \u001b[0;34m**\u001b[0m\u001b[0mkwds\u001b[0m\u001b[0;34m)\u001b[0m\u001b[0;34m\u001b[0m\u001b[0;34m\u001b[0m\u001b[0m\n\u001b[0m\u001b[1;32m    388\u001b[0m     \u001b[0;32mreturn\u001b[0m \u001b[0mwrapper\u001b[0m\u001b[0;34m\u001b[0m\u001b[0;34m\u001b[0m\u001b[0m\n\u001b[1;32m    389\u001b[0m \u001b[0;34m\u001b[0m\u001b[0m\n",
      "\u001b[0;32m/opt/conda/lib/python3.7/site-packages/rasterio/env.py\u001b[0m in \u001b[0;36mwrapper\u001b[0;34m(*args, **kwds)\u001b[0m\n\u001b[1;32m    608\u001b[0m                                 param, full_kwds[param], inequality, version, reason))\n\u001b[1;32m    609\u001b[0m \u001b[0;34m\u001b[0m\u001b[0m\n\u001b[0;32m--> 610\u001b[0;31m             \u001b[0;32mreturn\u001b[0m \u001b[0mf\u001b[0m\u001b[0;34m(\u001b[0m\u001b[0;34m*\u001b[0m\u001b[0margs\u001b[0m\u001b[0;34m,\u001b[0m \u001b[0;34m**\u001b[0m\u001b[0mkwds\u001b[0m\u001b[0;34m)\u001b[0m\u001b[0;34m\u001b[0m\u001b[0;34m\u001b[0m\u001b[0m\n\u001b[0m\u001b[1;32m    611\u001b[0m \u001b[0;34m\u001b[0m\u001b[0m\n\u001b[1;32m    612\u001b[0m         \u001b[0;32mreturn\u001b[0m \u001b[0mwrapper\u001b[0m\u001b[0;34m\u001b[0m\u001b[0;34m\u001b[0m\u001b[0m\n",
      "\u001b[0;32m/opt/conda/lib/python3.7/site-packages/rasterio/warp.py\u001b[0m in \u001b[0;36mtransform_geom\u001b[0;34m(src_crs, dst_crs, geom, antimeridian_cutting, antimeridian_offset, precision)\u001b[0m\n\u001b[1;32m    113\u001b[0m         \u001b[0mantimeridian_cutting\u001b[0m\u001b[0;34m,\u001b[0m\u001b[0;34m\u001b[0m\u001b[0;34m\u001b[0m\u001b[0m\n\u001b[1;32m    114\u001b[0m         \u001b[0mantimeridian_offset\u001b[0m\u001b[0;34m,\u001b[0m\u001b[0;34m\u001b[0m\u001b[0;34m\u001b[0m\u001b[0m\n\u001b[0;32m--> 115\u001b[0;31m         precision)\n\u001b[0m\u001b[1;32m    116\u001b[0m \u001b[0;34m\u001b[0m\u001b[0m\n\u001b[1;32m    117\u001b[0m \u001b[0;34m\u001b[0m\u001b[0m\n",
      "\u001b[0;31mKeyboardInterrupt\u001b[0m: "
     ]
    }
   ],
   "source": [
    "assets_train_df = pd.read_csv('data/assets_train.csv')\n",
    "fields_train = crass.create_field_list_train(assets_train_df)\n",
    "fields_train.head()"
   ]
  },
  {
   "cell_type": "code",
   "execution_count": 110,
   "id": "6a53962e",
   "metadata": {},
   "outputs": [
    {
     "data": {
      "text/plain": [
       "2650"
      ]
     },
     "execution_count": 110,
     "metadata": {},
     "output_type": "execute_result"
    }
   ],
   "source": [
    "len(fields_train[\"tile_id\"].unique())"
   ]
  },
  {
   "cell_type": "code",
   "execution_count": 287,
   "id": "9429af38",
   "metadata": {},
   "outputs": [
    {
     "name": "stdout",
     "output_type": "stream",
     "text": [
      "Tile Nr. 1137 of total 1137\n"
     ]
    },
    {
     "data": {
      "text/html": [
       "<div>\n",
       "<style scoped>\n",
       "    .dataframe tbody tr th:only-of-type {\n",
       "        vertical-align: middle;\n",
       "    }\n",
       "\n",
       "    .dataframe tbody tr th {\n",
       "        vertical-align: top;\n",
       "    }\n",
       "\n",
       "    .dataframe thead th {\n",
       "        text-align: right;\n",
       "    }\n",
       "</style>\n",
       "<table border=\"1\" class=\"dataframe\">\n",
       "  <thead>\n",
       "    <tr style=\"text-align: right;\">\n",
       "      <th></th>\n",
       "      <th>geometry</th>\n",
       "      <th>field_id</th>\n",
       "      <th>tile_id</th>\n",
       "      <th>field_area_km2</th>\n",
       "    </tr>\n",
       "  </thead>\n",
       "  <tbody>\n",
       "    <tr>\n",
       "      <th>0</th>\n",
       "      <td>POLYGON ((18.13951 -33.00683, 18.13950 -33.007...</td>\n",
       "      <td>62027</td>\n",
       "      <td>590</td>\n",
       "      <td>0.037301</td>\n",
       "    </tr>\n",
       "    <tr>\n",
       "      <th>1</th>\n",
       "      <td>POLYGON ((18.14625 -33.00699, 18.14624 -33.007...</td>\n",
       "      <td>62071</td>\n",
       "      <td>590</td>\n",
       "      <td>0.050804</td>\n",
       "    </tr>\n",
       "    <tr>\n",
       "      <th>2</th>\n",
       "      <td>POLYGON ((18.14045 -33.00757, 18.14044 -33.007...</td>\n",
       "      <td>85373</td>\n",
       "      <td>590</td>\n",
       "      <td>0.022991</td>\n",
       "    </tr>\n",
       "    <tr>\n",
       "      <th>3</th>\n",
       "      <td>POLYGON ((18.13053 -33.00662, 18.13052 -33.006...</td>\n",
       "      <td>102896</td>\n",
       "      <td>590</td>\n",
       "      <td>0.281303</td>\n",
       "    </tr>\n",
       "    <tr>\n",
       "      <th>4</th>\n",
       "      <td>POLYGON ((18.14654 -33.00771, 18.14654 -33.007...</td>\n",
       "      <td>3079</td>\n",
       "      <td>590</td>\n",
       "      <td>0.139693</td>\n",
       "    </tr>\n",
       "  </tbody>\n",
       "</table>\n",
       "</div>"
      ],
      "text/plain": [
       "                                            geometry  field_id  tile_id  \\\n",
       "0  POLYGON ((18.13951 -33.00683, 18.13950 -33.007...     62027      590   \n",
       "1  POLYGON ((18.14625 -33.00699, 18.14624 -33.007...     62071      590   \n",
       "2  POLYGON ((18.14045 -33.00757, 18.14044 -33.007...     85373      590   \n",
       "3  POLYGON ((18.13053 -33.00662, 18.13052 -33.006...    102896      590   \n",
       "4  POLYGON ((18.14654 -33.00771, 18.14654 -33.007...      3079      590   \n",
       "\n",
       "   field_area_km2  \n",
       "0        0.037301  \n",
       "1        0.050804  \n",
       "2        0.022991  \n",
       "3        0.281303  \n",
       "4        0.139693  "
      ]
     },
     "execution_count": 287,
     "metadata": {},
     "output_type": "execute_result"
    }
   ],
   "source": [
    "assets_test_df = pd.read_csv('data/assets_test.csv')\n",
    "fields_test = crass.create_field_list_test(assets_test_df)\n",
    "fields_test.head()"
   ]
  },
  {
   "cell_type": "markdown",
   "id": "5c4d7551",
   "metadata": {},
   "source": [
    "Some fields with 0 label and 0 field_id are present, they seem to be very small, so we will drop them from the list"
   ]
  },
  {
   "cell_type": "code",
   "execution_count": 108,
   "id": "c9a67606",
   "metadata": {},
   "outputs": [],
   "source": [
    "fields_train = crass.remove_dupl_fields(fields_train)"
   ]
  },
  {
   "cell_type": "code",
   "execution_count": 289,
   "id": "3b61e359",
   "metadata": {},
   "outputs": [],
   "source": [
    "fields_test = crass.remove_dupl_fields(fields_test)"
   ]
  },
  {
   "cell_type": "markdown",
   "id": "b7bd7d0e",
   "metadata": {},
   "source": [
    "We also add another column with the fields elevation over the sea in m."
   ]
  },
  {
   "cell_type": "code",
   "execution_count": null,
   "id": "64646a80",
   "metadata": {},
   "outputs": [],
   "source": [
    "crass.download_elevation(fields_train)"
   ]
  },
  {
   "cell_type": "code",
   "execution_count": 109,
   "id": "c5578b24",
   "metadata": {},
   "outputs": [],
   "source": [
    "elev_src = rasterio.open('/home/jupyter/NF-Capstone-Crop-Classification/data/elev_merged.tif')\n",
    "elev_read = elev_src.read()"
   ]
  },
  {
   "cell_type": "markdown",
   "id": "a2d5347b",
   "metadata": {},
   "source": [
    "We can save the DataFrame after that"
   ]
  },
  {
   "cell_type": "code",
   "execution_count": 111,
   "id": "fb59110b",
   "metadata": {},
   "outputs": [
    {
     "name": "stderr",
     "output_type": "stream",
     "text": [
      "/opt/conda/lib/python3.7/site-packages/numpy/core/fromnumeric.py:3373: RuntimeWarning: Mean of empty slice.\n",
      "  out=out, **kwargs)\n"
     ]
    }
   ],
   "source": [
    "fields_train['elevation'] = fields_train.geometry.apply(crass.get_elev, args=(elev_src, elev_read, ))\n",
    "fields_train.to_file('data/fields_train.geojson', driver='GeoJSON')"
   ]
  },
  {
   "cell_type": "code",
   "execution_count": 294,
   "id": "f6f044ce",
   "metadata": {},
   "outputs": [],
   "source": [
    "fields_test['elevation'] = fields_test.geometry.apply(crass.get_elev, args=(elev_src, elev_read, ))\n",
    "fields_test.to_file('data/fields_test.geojson', driver='GeoJSON')"
   ]
  },
  {
   "cell_type": "markdown",
   "id": "a42dd625",
   "metadata": {},
   "source": [
    "## 3. Tile DataFrame"
   ]
  },
  {
   "cell_type": "markdown",
   "id": "7e8b16dd",
   "metadata": {},
   "source": [
    "Now we want to extract all the information regarding the Tiles.\n",
    "\n",
    "First, we check which days the images contain clouds."
   ]
  },
  {
   "cell_type": "code",
   "execution_count": 3,
   "id": "494319f7",
   "metadata": {},
   "outputs": [],
   "source": [
    "fields_train = gpd.read_file('data/fields_train.geojson')\n",
    "fields_test = gpd.read_file('data/fields_test.geojson')"
   ]
  },
  {
   "cell_type": "code",
   "execution_count": 4,
   "id": "024b7e05",
   "metadata": {},
   "outputs": [],
   "source": [
    "assets_train_df = pd.read_csv('data/assets_train.csv')\n",
    "assets_test_df = pd.read_csv('data/assets_test.csv')"
   ]
  },
  {
   "cell_type": "code",
   "execution_count": 6,
   "id": "413508f1",
   "metadata": {},
   "outputs": [
    {
     "data": {
      "text/plain": [
       "<module 'tile_utils' from '/home/jupyter/NF-Capstone-Crop-Classification/tile_utils.py'>"
      ]
     },
     "execution_count": 6,
     "metadata": {},
     "output_type": "execute_result"
    }
   ],
   "source": [
    "import tile_utils as tilu\n",
    "importlib.reload(tilu)"
   ]
  },
  {
   "cell_type": "code",
   "execution_count": 23,
   "id": "56b78b90",
   "metadata": {},
   "outputs": [],
   "source": [
    "tiles_train = tilu.create_basic_tile_df(assets_train_df)\n",
    "tiles_test = tilu.create_basic_tile_df(assets_test_df)"
   ]
  },
  {
   "cell_type": "code",
   "execution_count": 24,
   "id": "e042af21",
   "metadata": {},
   "outputs": [
    {
     "name": "stdout",
     "output_type": "stream",
     "text": [
      "2650\n"
     ]
    }
   ],
   "source": [
    "sunny_train = tilu.create_sunny_df(assets_train_df)\n",
    "tiles_train = tiles_train.merge(sunny_train, how='inner', on='tile_id')"
   ]
  },
  {
   "cell_type": "markdown",
   "id": "7a86161a",
   "metadata": {},
   "source": [
    "We have included:\n",
    "+ the days that the sentinel 1 has taken a photo\n",
    "+ the days that the sentinel 2 has taken a photo\n",
    "+ the days that the sentinel 2 has taken a photo with no clouds\n",
    "+ the rate between the days with no clouds\n",
    "+ the days that the sentinel 2 has taken a photo with no clouds and with at least the 80% of the picture in good state."
   ]
  },
  {
   "cell_type": "markdown",
   "id": "150fc257",
   "metadata": {},
   "source": [
    "We alse are interested in knowing the neighbor tiles"
   ]
  },
  {
   "cell_type": "code",
   "execution_count": 25,
   "id": "b1cd2e8c",
   "metadata": {},
   "outputs": [],
   "source": [
    "tiles_train_crs32634 = tiles_train.to_crs(32634)\n",
    "\n",
    "# apply with a threshold of 4000m\n",
    "tiles_train['tiles_closest'] = tiles_train_crs32634.apply(tilu.tiles_closest, axis='columns', args=(tiles_train_crs32634, 4000,))"
   ]
  },
  {
   "cell_type": "code",
   "execution_count": 30,
   "id": "4d3c3991",
   "metadata": {},
   "outputs": [
    {
     "name": "stdout",
     "output_type": "stream",
     "text": [
      "{1: 0.0, 2: 0.0, 3: 0.0, 4: 0.0, 5: 0.6666666666666666, 6: 0.0, 7: 0.0, 8: 0.0, 9: 0.3333333333333333}\n"
     ]
    }
   ],
   "source": [
    "tiles_train['tile_label_dist'] = tiles_train.apply(tilu.label_distribution, axis='columns', args=(fields_train,))"
   ]
  },
  {
   "cell_type": "code",
   "execution_count": 68,
   "id": "41f17213",
   "metadata": {},
   "outputs": [],
   "source": [
    "tiles_train.tiles_closest = tiles_train.tiles_closest.apply(eval)\n"
   ]
  },
  {
   "cell_type": "code",
   "execution_count": 74,
   "id": "c2b9456b",
   "metadata": {},
   "outputs": [
    {
     "name": "stdout",
     "output_type": "stream",
     "text": [
      "{1: 0.0, 2: 0.0, 3: 0.09683794466403162, 4: 0.0, 5: 0.21865236213062297, 6: 0.034782608695652174, 7: 0.0, 8: 0.0, 9: 0.6497270845096932}\n"
     ]
    }
   ],
   "source": [
    "tiles_train['close_label_dist'] = tiles_train.apply(tilu.close_tiles_label_dist, axis='columns', args=(tiles_train,))"
   ]
  },
  {
   "cell_type": "code",
   "execution_count": 93,
   "id": "fb9d9f84",
   "metadata": {},
   "outputs": [],
   "source": [
    "tiles_train.tiles_closest = tiles_train.tiles_closest.astype(str)\n",
    "tiles_train.to_file('data/tiles_train.geojson', driver='GeoJSON')"
   ]
  },
  {
   "cell_type": "code",
   "execution_count": 94,
   "id": "9b846136",
   "metadata": {},
   "outputs": [
    {
     "name": "stdout",
     "output_type": "stream",
     "text": [
      "1137\n"
     ]
    }
   ],
   "source": [
    "sunny_test = tilu.create_sunny_df(assets_test_df)\n",
    "tiles_test = tiles_test.merge(sunny_test, how='inner', on='tile_id')"
   ]
  },
  {
   "cell_type": "code",
   "execution_count": 102,
   "id": "0dc6f98b",
   "metadata": {},
   "outputs": [],
   "source": [
    "tiles_train = tilu.read_tile_geojson('data/tiles_train.geojson')\n",
    "tiles_train_crs32634 = tiles_train.to_crs(32634)\n",
    "tiles_test_crs32634 = tiles_test.to_crs(32634)\n",
    "\n",
    "# apply with a threshold of 4000m\n",
    "tiles_test['tiles_closest'] = tiles_test_crs32634.apply(tilu.tiles_closest, axis='columns', args=(tiles_train_crs32634, 4000,))"
   ]
  },
  {
   "cell_type": "markdown",
   "id": "0e833395",
   "metadata": {},
   "source": [
    "and the most common crops in them"
   ]
  },
  {
   "cell_type": "code",
   "execution_count": 105,
   "id": "8e530121",
   "metadata": {
    "jupyter": {
     "source_hidden": true
    }
   },
   "outputs": [
    {
     "data": {
      "text/html": [
       "<div>\n",
       "<style scoped>\n",
       "    .dataframe tbody tr th:only-of-type {\n",
       "        vertical-align: middle;\n",
       "    }\n",
       "\n",
       "    .dataframe tbody tr th {\n",
       "        vertical-align: top;\n",
       "    }\n",
       "\n",
       "    .dataframe thead th {\n",
       "        text-align: right;\n",
       "    }\n",
       "</style>\n",
       "<table border=\"1\" class=\"dataframe\">\n",
       "  <thead>\n",
       "    <tr style=\"text-align: right;\">\n",
       "      <th></th>\n",
       "      <th>tile_id</th>\n",
       "      <th>geometry</th>\n",
       "      <th>s1_days</th>\n",
       "      <th>all_days</th>\n",
       "      <th>sunny_days</th>\n",
       "      <th>sun_rate</th>\n",
       "      <th>clean_days</th>\n",
       "      <th>tiles_closest</th>\n",
       "    </tr>\n",
       "  </thead>\n",
       "  <tbody>\n",
       "    <tr>\n",
       "      <th>0</th>\n",
       "      <td>590</td>\n",
       "      <td>POLYGON ((18.12208 -33.02951, 18.14946 -33.030...</td>\n",
       "      <td>{259, 132, 264, 139, 271, 144, 276, 151, 283, ...</td>\n",
       "      <td>{131, 261, 134, 264, 266, 141, 269, 271, 144, ...</td>\n",
       "      <td>{261, 134, 266, 141, 271, 274, 151, 279, 284, ...</td>\n",
       "      <td>0.578947</td>\n",
       "      <td>{261, 134, 266, 141, 271, 274, 151, 279, 284, ...</td>\n",
       "      <td>[129, 743, 459, 1658, 1493, 1350, 1582, 1651]</td>\n",
       "    </tr>\n",
       "    <tr>\n",
       "      <th>1</th>\n",
       "      <td>1026</td>\n",
       "      <td>POLYGON ((18.66982 -33.04095, 18.69721 -33.041...</td>\n",
       "      <td>{259, 132, 264, 139, 271, 144, 276, 151, 283, ...</td>\n",
       "      <td>{131, 261, 266, 141, 269, 271, 276, 151, 279, ...</td>\n",
       "      <td>{261, 266, 269, 141, 271, 151, 279, 286, 289, ...</td>\n",
       "      <td>0.680851</td>\n",
       "      <td>{261, 266, 141, 271, 151, 286, 291, 296, 171, ...</td>\n",
       "      <td>[2215, 939, 1250, 2490, 830, 357, 2381]</td>\n",
       "    </tr>\n",
       "    <tr>\n",
       "      <th>2</th>\n",
       "      <td>100</td>\n",
       "      <td>POLYGON ((18.67173 -31.90977, 18.69878 -31.910...</td>\n",
       "      <td>{259, 132, 264, 139, 271, 144, 276, 151, 283, ...</td>\n",
       "      <td>{131, 261, 134, 264, 266, 141, 269, 271, 144, ...</td>\n",
       "      <td>{261, 134, 266, 269, 141, 144, 274, 279, 284, ...</td>\n",
       "      <td>0.644737</td>\n",
       "      <td>{261, 134, 266, 269, 141, 144, 274, 279, 284, ...</td>\n",
       "      <td>[1209, 1515, 2565, 1941, 850, 2560, 1097, 1765...</td>\n",
       "    </tr>\n",
       "    <tr>\n",
       "      <th>3</th>\n",
       "      <td>332</td>\n",
       "      <td>POLYGON ((18.21607 -31.76210, 18.24308 -31.762...</td>\n",
       "      <td>{259, 132, 264, 139, 271, 144, 276, 151, 283, ...</td>\n",
       "      <td>{134, 264, 269, 144, 274, 279, 154, 284, 289, ...</td>\n",
       "      <td>{134, 269, 144, 274, 279, 284, 289, 294, 174, ...</td>\n",
       "      <td>0.789474</td>\n",
       "      <td>{134, 269, 144, 274, 279, 284, 289, 294, 174, ...</td>\n",
       "      <td>[1260, 1450]</td>\n",
       "    </tr>\n",
       "    <tr>\n",
       "      <th>4</th>\n",
       "      <td>756</td>\n",
       "      <td>POLYGON ((18.40064 -32.87405, 18.42798 -32.874...</td>\n",
       "      <td>{259, 132, 264, 139, 271, 144, 276, 151, 283, ...</td>\n",
       "      <td>{131, 261, 134, 264, 266, 141, 269, 271, 144, ...</td>\n",
       "      <td>{261, 134, 266, 269, 141, 271, 144, 274, 151, ...</td>\n",
       "      <td>0.592105</td>\n",
       "      <td>{261, 134, 266, 269, 141, 271, 144, 274, 151, ...</td>\n",
       "      <td>[675, 1411, 1422, 1521, 1449, 389, 485]</td>\n",
       "    </tr>\n",
       "  </tbody>\n",
       "</table>\n",
       "</div>"
      ],
      "text/plain": [
       "   tile_id                                           geometry  \\\n",
       "0      590  POLYGON ((18.12208 -33.02951, 18.14946 -33.030...   \n",
       "1     1026  POLYGON ((18.66982 -33.04095, 18.69721 -33.041...   \n",
       "2      100  POLYGON ((18.67173 -31.90977, 18.69878 -31.910...   \n",
       "3      332  POLYGON ((18.21607 -31.76210, 18.24308 -31.762...   \n",
       "4      756  POLYGON ((18.40064 -32.87405, 18.42798 -32.874...   \n",
       "\n",
       "                                             s1_days  \\\n",
       "0  {259, 132, 264, 139, 271, 144, 276, 151, 283, ...   \n",
       "1  {259, 132, 264, 139, 271, 144, 276, 151, 283, ...   \n",
       "2  {259, 132, 264, 139, 271, 144, 276, 151, 283, ...   \n",
       "3  {259, 132, 264, 139, 271, 144, 276, 151, 283, ...   \n",
       "4  {259, 132, 264, 139, 271, 144, 276, 151, 283, ...   \n",
       "\n",
       "                                            all_days  \\\n",
       "0  {131, 261, 134, 264, 266, 141, 269, 271, 144, ...   \n",
       "1  {131, 261, 266, 141, 269, 271, 276, 151, 279, ...   \n",
       "2  {131, 261, 134, 264, 266, 141, 269, 271, 144, ...   \n",
       "3  {134, 264, 269, 144, 274, 279, 154, 284, 289, ...   \n",
       "4  {131, 261, 134, 264, 266, 141, 269, 271, 144, ...   \n",
       "\n",
       "                                          sunny_days  sun_rate  \\\n",
       "0  {261, 134, 266, 141, 271, 274, 151, 279, 284, ...  0.578947   \n",
       "1  {261, 266, 269, 141, 271, 151, 279, 286, 289, ...  0.680851   \n",
       "2  {261, 134, 266, 269, 141, 144, 274, 279, 284, ...  0.644737   \n",
       "3  {134, 269, 144, 274, 279, 284, 289, 294, 174, ...  0.789474   \n",
       "4  {261, 134, 266, 269, 141, 271, 144, 274, 151, ...  0.592105   \n",
       "\n",
       "                                          clean_days  \\\n",
       "0  {261, 134, 266, 141, 271, 274, 151, 279, 284, ...   \n",
       "1  {261, 266, 141, 271, 151, 286, 291, 296, 171, ...   \n",
       "2  {261, 134, 266, 269, 141, 144, 274, 279, 284, ...   \n",
       "3  {134, 269, 144, 274, 279, 284, 289, 294, 174, ...   \n",
       "4  {261, 134, 266, 269, 141, 271, 144, 274, 151, ...   \n",
       "\n",
       "                                       tiles_closest  \n",
       "0      [129, 743, 459, 1658, 1493, 1350, 1582, 1651]  \n",
       "1            [2215, 939, 1250, 2490, 830, 357, 2381]  \n",
       "2  [1209, 1515, 2565, 1941, 850, 2560, 1097, 1765...  \n",
       "3                                       [1260, 1450]  \n",
       "4            [675, 1411, 1422, 1521, 1449, 389, 485]  "
      ]
     },
     "execution_count": 105,
     "metadata": {},
     "output_type": "execute_result"
    }
   ],
   "source": [
    "tiles_test.head()"
   ]
  },
  {
   "cell_type": "code",
   "execution_count": 108,
   "id": "5d4b42b6",
   "metadata": {},
   "outputs": [
    {
     "name": "stdout",
     "output_type": "stream",
     "text": [
      "{1: 0.04839328708488483, 2: 0.2357246576367556, 3: 0.0038325189230621823, 4: 0.3283579759634396, 5: 0.0021786492374727667, 6: 0.2184166082641485, 7: 0.11909296778040722, 8: 0.04400333510982934, 9: 0.0}\n"
     ]
    }
   ],
   "source": [
    "#tiles_test.tiles_closest = tiles_test.tiles_closest.apply(eval)\n",
    "tiles_test['close_label_dist'] = tiles_test.apply(tilu.close_tiles_label_dist, axis='columns', args=(tiles_train,))"
   ]
  },
  {
   "cell_type": "code",
   "execution_count": 109,
   "id": "219e969f",
   "metadata": {},
   "outputs": [],
   "source": [
    "tiles_test.tiles_closest = tiles_test.tiles_closest.astype(str)\n",
    "tiles_test.to_file('data/tiles_test.geojson', driver='GeoJSON')"
   ]
  },
  {
   "cell_type": "markdown",
   "id": "9b1cb1c8",
   "metadata": {},
   "source": [
    "## 4. Stack Sentinel 2 Channels"
   ]
  },
  {
   "cell_type": "code",
   "execution_count": 4,
   "id": "a34bf535",
   "metadata": {},
   "outputs": [
    {
     "data": {
      "text/plain": [
       "<module 'stack_utils' from '/home/jupyter/NF-Capstone-Crop-Classification/stack_utils.py'>"
      ]
     },
     "execution_count": 4,
     "metadata": {},
     "output_type": "execute_result"
    }
   ],
   "source": [
    "import stack_utils as stul\n",
    "importlib.reload(stul)"
   ]
  },
  {
   "cell_type": "code",
   "execution_count": 5,
   "id": "94172cf9",
   "metadata": {},
   "outputs": [],
   "source": [
    "assets_train_df = pd.read_csv('data/assets_train.csv')\n",
    "assets_test_df = pd.read_csv('data/assets_test.csv')"
   ]
  },
  {
   "cell_type": "code",
   "execution_count": 8,
   "id": "e9c51a2d",
   "metadata": {},
   "outputs": [],
   "source": [
    "tiles_train = tilu.read_tile_geojson('data/tiles_train.geojson')\n",
    "tiles_test = tilu.read_tile_geojson('data/tiles_test.geojson')"
   ]
  },
  {
   "cell_type": "code",
   "execution_count": null,
   "id": "e4ff9b01",
   "metadata": {},
   "outputs": [
    {
     "name": "stdout",
     "output_type": "stream",
     "text": [
      "Procesing 2102 of 2650\n"
     ]
    }
   ],
   "source": [
    "num_days = 16\n",
    "\n",
    "assets_s2_stacked_16days_train = stul.create_stacked(assets_train_df ,tiles_train, 's2', num_days)\n",
    "\n",
    "assets_s2_stacked_16days_train.to_csv('data/assets_s2_stacked_16days_train.csv')"
   ]
  },
  {
   "cell_type": "code",
   "execution_count": 76,
   "id": "a781bb91",
   "metadata": {},
   "outputs": [
    {
     "name": "stdout",
     "output_type": "stream",
     "text": [
      "Procesing 2650 of 2650\n"
     ]
    }
   ],
   "source": [
    "num_days = 16\n",
    "\n",
    "assets_s1_stacked_16days_train = stul.create_stacked(assets_train_df ,tiles_train, 's1', num_days)\n",
    "\n",
    "assets_s1_stacked_16days_train.to_csv('data/assets_s1_stacked_16days_train.csv')"
   ]
  },
  {
   "cell_type": "code",
   "execution_count": 9,
   "id": "78326617",
   "metadata": {},
   "outputs": [
    {
     "name": "stdout",
     "output_type": "stream",
     "text": [
      "Procesing 1137 of 1137\n"
     ]
    }
   ],
   "source": [
    "num_days = 16\n",
    "\n",
    "assets_s2_stacked_16days_test = stul.create_stacked(assets_test_df ,tiles_test, 's2', num_days)\n",
    "\n",
    "assets_s2_stacked_16days_test.to_csv('data/assets_s2_stacked_16days_test.csv')"
   ]
  },
  {
   "cell_type": "code",
   "execution_count": 10,
   "id": "d9fa3db6",
   "metadata": {},
   "outputs": [
    {
     "name": "stdout",
     "output_type": "stream",
     "text": [
      "Procesing 1137 of 1137\n"
     ]
    }
   ],
   "source": [
    "assets_s1_stacked_16days_test = stul.create_stacked(assets_test_df ,tiles_test, 's1', num_days)\n",
    "\n",
    "assets_s1_stacked_16days_test.to_csv('data/assets_s1_stacked_16days_test.csv')"
   ]
  },
  {
   "cell_type": "markdown",
   "id": "d80bb99e",
   "metadata": {},
   "source": [
    "## 5. Crop Fields and create Mean + Var"
   ]
  },
  {
   "cell_type": "markdown",
   "id": "e9895cba",
   "metadata": {},
   "source": [
    "### Train"
   ]
  },
  {
   "cell_type": "code",
   "execution_count": 7,
   "id": "a5aa9a5e",
   "metadata": {},
   "outputs": [
    {
     "data": {
      "text/plain": [
       "<module 'crop_utils' from '/home/jupyter/NF-Capstone-Crop-Classification/crop_utils.py'>"
      ]
     },
     "execution_count": 7,
     "metadata": {},
     "output_type": "execute_result"
    }
   ],
   "source": [
    "import crop_utils as crul\n",
    "importlib.reload(crul)"
   ]
  },
  {
   "cell_type": "code",
   "execution_count": 5,
   "id": "871b3e75",
   "metadata": {},
   "outputs": [],
   "source": [
    "assets_train_df = pd.read_csv('data/assets_train.csv')\n",
    "tiles_train= tilu.read_tile_geojson('data/tiles_train.geojson')\n",
    "fields_train = gpd.read_file('data/fields_train.geojson')"
   ]
  },
  {
   "cell_type": "code",
   "execution_count": 6,
   "id": "7728110d",
   "metadata": {},
   "outputs": [],
   "source": [
    "assets_s2_stacked_16days_train = pd.read_csv('data/assets_s2_stacked_16days_train.csv', index_col = 0)\n",
    "assets_s1_stacked_16days_train = pd.read_csv('data/assets_s1_stacked_16days_train.csv', index_col = 0)"
   ]
  },
  {
   "cell_type": "code",
   "execution_count": 7,
   "id": "e09faba3",
   "metadata": {},
   "outputs": [
    {
     "name": "stdout",
     "output_type": "stream",
     "text": [
      "Tile Nr. 2650 of 2650\n",
      "2198\n"
     ]
    }
   ],
   "source": [
    "train_mean_var_s2 = crul.create_mean_var(assets_train_df, assets_s2_stacked_16days_train, fields_train, tiles_train, \"s2\")\n",
    "train_mean_var_s2.to_csv('data/mean_var_s2_16days_train.csv', index=False)"
   ]
  },
  {
   "cell_type": "code",
   "execution_count": 114,
   "id": "fc04ee17",
   "metadata": {},
   "outputs": [],
   "source": [
    "train_mean_var_s2.to_csv('data/mean_var_s2_16days_train.csv', index=False)"
   ]
  },
  {
   "cell_type": "code",
   "execution_count": 9,
   "id": "657a320c",
   "metadata": {},
   "outputs": [
    {
     "name": "stdout",
     "output_type": "stream",
     "text": [
      "Tile Nr. 2650 of 2650\n",
      "2198\n"
     ]
    }
   ],
   "source": [
    "train_mean_var_s1 = crul.create_mean_var(assets_train_df, assets_s1_stacked_16days_train, fields_train, tiles_train, \"s1\")\n",
    "train_mean_var_s1.to_csv('data/mean_var_s1_16days_train.csv', index=False)"
   ]
  },
  {
   "cell_type": "code",
   "execution_count": 121,
   "id": "863e6f77",
   "metadata": {
    "collapsed": true,
    "jupyter": {
     "outputs_hidden": true
    }
   },
   "outputs": [
    {
     "data": {
      "text/html": [
       "<div>\n",
       "<style scoped>\n",
       "    .dataframe tbody tr th:only-of-type {\n",
       "        vertical-align: middle;\n",
       "    }\n",
       "\n",
       "    .dataframe tbody tr th {\n",
       "        vertical-align: top;\n",
       "    }\n",
       "\n",
       "    .dataframe thead th {\n",
       "        text-align: right;\n",
       "    }\n",
       "</style>\n",
       "<table border=\"1\" class=\"dataframe\">\n",
       "  <thead>\n",
       "    <tr style=\"text-align: right;\">\n",
       "      <th></th>\n",
       "      <th>geometry</th>\n",
       "      <th>field_id</th>\n",
       "      <th>label</th>\n",
       "      <th>tile_id</th>\n",
       "      <th>field_area_km2</th>\n",
       "      <th>elevation</th>\n",
       "      <th>neighboor_label_1</th>\n",
       "      <th>neighboor_label_2</th>\n",
       "      <th>neighboor_label_3</th>\n",
       "      <th>neighboor_label_4</th>\n",
       "      <th>...</th>\n",
       "      <th>B06_VAR_15</th>\n",
       "      <th>B07_VAR_15</th>\n",
       "      <th>B08_VAR_15</th>\n",
       "      <th>B09_VAR_15</th>\n",
       "      <th>B11_VAR_15</th>\n",
       "      <th>B12_VAR_15</th>\n",
       "      <th>B8A_VAR_15</th>\n",
       "      <th>BS_IDX_VAR_15</th>\n",
       "      <th>MOIST_IDX_VAR_15</th>\n",
       "      <th>NDVI_IDX_VAR_15</th>\n",
       "    </tr>\n",
       "  </thead>\n",
       "  <tbody>\n",
       "    <tr>\n",
       "      <th>0</th>\n",
       "      <td>POLYGON ((18.57295 -33.57073, 18.57293 -33.571...</td>\n",
       "      <td>3020</td>\n",
       "      <td>2</td>\n",
       "      <td>2587</td>\n",
       "      <td>0.001702</td>\n",
       "      <td>197.333333</td>\n",
       "      <td>0.153001</td>\n",
       "      <td>0.429634</td>\n",
       "      <td>0.016667</td>\n",
       "      <td>0.024266</td>\n",
       "      <td>...</td>\n",
       "      <td>3.439446</td>\n",
       "      <td>8.242215</td>\n",
       "      <td>8.415225</td>\n",
       "      <td>0.228374</td>\n",
       "      <td>3.474048</td>\n",
       "      <td>2.837370</td>\n",
       "      <td>3.584775</td>\n",
       "      <td>50.214231</td>\n",
       "      <td>0.000000e+00</td>\n",
       "      <td>0.000160</td>\n",
       "    </tr>\n",
       "    <tr>\n",
       "      <th>1</th>\n",
       "      <td>POLYGON ((18.57517 -33.57230, 18.57513 -33.573...</td>\n",
       "      <td>99466</td>\n",
       "      <td>2</td>\n",
       "      <td>2587</td>\n",
       "      <td>0.042403</td>\n",
       "      <td>173.574074</td>\n",
       "      <td>0.153001</td>\n",
       "      <td>0.429634</td>\n",
       "      <td>0.016667</td>\n",
       "      <td>0.024266</td>\n",
       "      <td>...</td>\n",
       "      <td>139.848856</td>\n",
       "      <td>140.055514</td>\n",
       "      <td>165.293432</td>\n",
       "      <td>82.640864</td>\n",
       "      <td>100.025003</td>\n",
       "      <td>127.354436</td>\n",
       "      <td>136.891059</td>\n",
       "      <td>inf</td>\n",
       "      <td>1.232595e-32</td>\n",
       "      <td>0.000846</td>\n",
       "    </tr>\n",
       "    <tr>\n",
       "      <th>2</th>\n",
       "      <td>POLYGON ((18.58087 -33.57259, 18.58087 -33.572...</td>\n",
       "      <td>15902</td>\n",
       "      <td>5</td>\n",
       "      <td>2587</td>\n",
       "      <td>0.029503</td>\n",
       "      <td>149.222222</td>\n",
       "      <td>0.153001</td>\n",
       "      <td>0.429634</td>\n",
       "      <td>0.016667</td>\n",
       "      <td>0.024266</td>\n",
       "      <td>...</td>\n",
       "      <td>34.787544</td>\n",
       "      <td>36.935754</td>\n",
       "      <td>53.602804</td>\n",
       "      <td>40.073312</td>\n",
       "      <td>60.294513</td>\n",
       "      <td>143.805573</td>\n",
       "      <td>41.244861</td>\n",
       "      <td>inf</td>\n",
       "      <td>4.930381e-32</td>\n",
       "      <td>0.001510</td>\n",
       "    </tr>\n",
       "    <tr>\n",
       "      <th>3</th>\n",
       "      <td>POLYGON ((18.59842 -33.57285, 18.59842 -33.572...</td>\n",
       "      <td>38846</td>\n",
       "      <td>3</td>\n",
       "      <td>2587</td>\n",
       "      <td>0.069601</td>\n",
       "      <td>89.761364</td>\n",
       "      <td>0.153001</td>\n",
       "      <td>0.429634</td>\n",
       "      <td>0.016667</td>\n",
       "      <td>0.024266</td>\n",
       "      <td>...</td>\n",
       "      <td>437.590963</td>\n",
       "      <td>435.460455</td>\n",
       "      <td>480.509141</td>\n",
       "      <td>325.472742</td>\n",
       "      <td>504.214970</td>\n",
       "      <td>984.098956</td>\n",
       "      <td>383.185064</td>\n",
       "      <td>inf</td>\n",
       "      <td>6.073545e-02</td>\n",
       "      <td>0.026636</td>\n",
       "    </tr>\n",
       "    <tr>\n",
       "      <th>4</th>\n",
       "      <td>POLYGON ((18.59189 -33.58714, 18.59186 -33.587...</td>\n",
       "      <td>87981</td>\n",
       "      <td>1</td>\n",
       "      <td>2587</td>\n",
       "      <td>0.022603</td>\n",
       "      <td>90.272727</td>\n",
       "      <td>0.153001</td>\n",
       "      <td>0.429634</td>\n",
       "      <td>0.016667</td>\n",
       "      <td>0.024266</td>\n",
       "      <td>...</td>\n",
       "      <td>25.782598</td>\n",
       "      <td>22.703579</td>\n",
       "      <td>40.416889</td>\n",
       "      <td>7.707416</td>\n",
       "      <td>39.147721</td>\n",
       "      <td>41.700779</td>\n",
       "      <td>20.353845</td>\n",
       "      <td>364.768541</td>\n",
       "      <td>0.000000e+00</td>\n",
       "      <td>0.001584</td>\n",
       "    </tr>\n",
       "    <tr>\n",
       "      <th>...</th>\n",
       "      <td>...</td>\n",
       "      <td>...</td>\n",
       "      <td>...</td>\n",
       "      <td>...</td>\n",
       "      <td>...</td>\n",
       "      <td>...</td>\n",
       "      <td>...</td>\n",
       "      <td>...</td>\n",
       "      <td>...</td>\n",
       "      <td>...</td>\n",
       "      <td>...</td>\n",
       "      <td>...</td>\n",
       "      <td>...</td>\n",
       "      <td>...</td>\n",
       "      <td>...</td>\n",
       "      <td>...</td>\n",
       "      <td>...</td>\n",
       "      <td>...</td>\n",
       "      <td>...</td>\n",
       "      <td>...</td>\n",
       "      <td>...</td>\n",
       "    </tr>\n",
       "    <tr>\n",
       "      <th>89564</th>\n",
       "      <td>POLYGON ((18.32471 -32.55524, 18.32470 -32.555...</td>\n",
       "      <td>97927</td>\n",
       "      <td>5</td>\n",
       "      <td>1379</td>\n",
       "      <td>0.132305</td>\n",
       "      <td>12.648810</td>\n",
       "      <td>0.000000</td>\n",
       "      <td>0.038171</td>\n",
       "      <td>0.071664</td>\n",
       "      <td>0.044444</td>\n",
       "      <td>...</td>\n",
       "      <td>83.466128</td>\n",
       "      <td>86.497704</td>\n",
       "      <td>93.542228</td>\n",
       "      <td>143.851307</td>\n",
       "      <td>111.682417</td>\n",
       "      <td>134.670082</td>\n",
       "      <td>84.793754</td>\n",
       "      <td>inf</td>\n",
       "      <td>1.232595e-32</td>\n",
       "      <td>0.000560</td>\n",
       "    </tr>\n",
       "    <tr>\n",
       "      <th>89565</th>\n",
       "      <td>POLYGON ((18.32799 -32.55567, 18.32799 -32.555...</td>\n",
       "      <td>47177</td>\n",
       "      <td>5</td>\n",
       "      <td>1379</td>\n",
       "      <td>0.020899</td>\n",
       "      <td>18.692308</td>\n",
       "      <td>0.000000</td>\n",
       "      <td>0.038171</td>\n",
       "      <td>0.071664</td>\n",
       "      <td>0.044444</td>\n",
       "      <td>...</td>\n",
       "      <td>112.877407</td>\n",
       "      <td>111.158627</td>\n",
       "      <td>97.236693</td>\n",
       "      <td>194.203200</td>\n",
       "      <td>142.296834</td>\n",
       "      <td>185.621758</td>\n",
       "      <td>106.495318</td>\n",
       "      <td>0.081184</td>\n",
       "      <td>1.232595e-32</td>\n",
       "      <td>0.000345</td>\n",
       "    </tr>\n",
       "    <tr>\n",
       "      <th>89566</th>\n",
       "      <td>POLYGON ((18.79505 -31.88149, 18.79504 -31.881...</td>\n",
       "      <td>92107</td>\n",
       "      <td>5</td>\n",
       "      <td>2198</td>\n",
       "      <td>0.123286</td>\n",
       "      <td>351.913907</td>\n",
       "      <td>0.000000</td>\n",
       "      <td>0.000000</td>\n",
       "      <td>0.096838</td>\n",
       "      <td>0.000000</td>\n",
       "      <td>...</td>\n",
       "      <td>50.627817</td>\n",
       "      <td>48.777843</td>\n",
       "      <td>57.483780</td>\n",
       "      <td>34.343136</td>\n",
       "      <td>23.595141</td>\n",
       "      <td>22.030777</td>\n",
       "      <td>43.819613</td>\n",
       "      <td>inf</td>\n",
       "      <td>1.232595e-32</td>\n",
       "      <td>0.000131</td>\n",
       "    </tr>\n",
       "    <tr>\n",
       "      <th>89567</th>\n",
       "      <td>POLYGON ((18.79496 -31.88068, 18.79495 -31.881...</td>\n",
       "      <td>93104</td>\n",
       "      <td>5</td>\n",
       "      <td>2198</td>\n",
       "      <td>0.229515</td>\n",
       "      <td>370.108014</td>\n",
       "      <td>0.000000</td>\n",
       "      <td>0.000000</td>\n",
       "      <td>0.096838</td>\n",
       "      <td>0.000000</td>\n",
       "      <td>...</td>\n",
       "      <td>56.857862</td>\n",
       "      <td>54.892323</td>\n",
       "      <td>61.551993</td>\n",
       "      <td>38.887556</td>\n",
       "      <td>27.336124</td>\n",
       "      <td>24.459045</td>\n",
       "      <td>50.392906</td>\n",
       "      <td>inf</td>\n",
       "      <td>0.000000e+00</td>\n",
       "      <td>0.000131</td>\n",
       "    </tr>\n",
       "    <tr>\n",
       "      <th>89568</th>\n",
       "      <td>POLYGON ((18.79644 -31.88521, 18.79644 -31.885...</td>\n",
       "      <td>73261</td>\n",
       "      <td>9</td>\n",
       "      <td>2198</td>\n",
       "      <td>0.160002</td>\n",
       "      <td>351.751244</td>\n",
       "      <td>0.000000</td>\n",
       "      <td>0.000000</td>\n",
       "      <td>0.096838</td>\n",
       "      <td>0.000000</td>\n",
       "      <td>...</td>\n",
       "      <td>45.219059</td>\n",
       "      <td>46.566631</td>\n",
       "      <td>63.815246</td>\n",
       "      <td>44.248731</td>\n",
       "      <td>25.986918</td>\n",
       "      <td>24.733187</td>\n",
       "      <td>42.396246</td>\n",
       "      <td>inf</td>\n",
       "      <td>0.000000e+00</td>\n",
       "      <td>0.000169</td>\n",
       "    </tr>\n",
       "  </tbody>\n",
       "</table>\n",
       "<p>87113 rows × 496 columns</p>\n",
       "</div>"
      ],
      "text/plain": [
       "                                                geometry  field_id  label  \\\n",
       "0      POLYGON ((18.57295 -33.57073, 18.57293 -33.571...      3020      2   \n",
       "1      POLYGON ((18.57517 -33.57230, 18.57513 -33.573...     99466      2   \n",
       "2      POLYGON ((18.58087 -33.57259, 18.58087 -33.572...     15902      5   \n",
       "3      POLYGON ((18.59842 -33.57285, 18.59842 -33.572...     38846      3   \n",
       "4      POLYGON ((18.59189 -33.58714, 18.59186 -33.587...     87981      1   \n",
       "...                                                  ...       ...    ...   \n",
       "89564  POLYGON ((18.32471 -32.55524, 18.32470 -32.555...     97927      5   \n",
       "89565  POLYGON ((18.32799 -32.55567, 18.32799 -32.555...     47177      5   \n",
       "89566  POLYGON ((18.79505 -31.88149, 18.79504 -31.881...     92107      5   \n",
       "89567  POLYGON ((18.79496 -31.88068, 18.79495 -31.881...     93104      5   \n",
       "89568  POLYGON ((18.79644 -31.88521, 18.79644 -31.885...     73261      9   \n",
       "\n",
       "       tile_id  field_area_km2   elevation  neighboor_label_1  \\\n",
       "0         2587        0.001702  197.333333           0.153001   \n",
       "1         2587        0.042403  173.574074           0.153001   \n",
       "2         2587        0.029503  149.222222           0.153001   \n",
       "3         2587        0.069601   89.761364           0.153001   \n",
       "4         2587        0.022603   90.272727           0.153001   \n",
       "...        ...             ...         ...                ...   \n",
       "89564     1379        0.132305   12.648810           0.000000   \n",
       "89565     1379        0.020899   18.692308           0.000000   \n",
       "89566     2198        0.123286  351.913907           0.000000   \n",
       "89567     2198        0.229515  370.108014           0.000000   \n",
       "89568     2198        0.160002  351.751244           0.000000   \n",
       "\n",
       "       neighboor_label_2  neighboor_label_3  neighboor_label_4  ...  \\\n",
       "0               0.429634           0.016667           0.024266  ...   \n",
       "1               0.429634           0.016667           0.024266  ...   \n",
       "2               0.429634           0.016667           0.024266  ...   \n",
       "3               0.429634           0.016667           0.024266  ...   \n",
       "4               0.429634           0.016667           0.024266  ...   \n",
       "...                  ...                ...                ...  ...   \n",
       "89564           0.038171           0.071664           0.044444  ...   \n",
       "89565           0.038171           0.071664           0.044444  ...   \n",
       "89566           0.000000           0.096838           0.000000  ...   \n",
       "89567           0.000000           0.096838           0.000000  ...   \n",
       "89568           0.000000           0.096838           0.000000  ...   \n",
       "\n",
       "       B06_VAR_15  B07_VAR_15  B08_VAR_15  B09_VAR_15  B11_VAR_15  B12_VAR_15  \\\n",
       "0        3.439446    8.242215    8.415225    0.228374    3.474048    2.837370   \n",
       "1      139.848856  140.055514  165.293432   82.640864  100.025003  127.354436   \n",
       "2       34.787544   36.935754   53.602804   40.073312   60.294513  143.805573   \n",
       "3      437.590963  435.460455  480.509141  325.472742  504.214970  984.098956   \n",
       "4       25.782598   22.703579   40.416889    7.707416   39.147721   41.700779   \n",
       "...           ...         ...         ...         ...         ...         ...   \n",
       "89564   83.466128   86.497704   93.542228  143.851307  111.682417  134.670082   \n",
       "89565  112.877407  111.158627   97.236693  194.203200  142.296834  185.621758   \n",
       "89566   50.627817   48.777843   57.483780   34.343136   23.595141   22.030777   \n",
       "89567   56.857862   54.892323   61.551993   38.887556   27.336124   24.459045   \n",
       "89568   45.219059   46.566631   63.815246   44.248731   25.986918   24.733187   \n",
       "\n",
       "       B8A_VAR_15  BS_IDX_VAR_15  MOIST_IDX_VAR_15  NDVI_IDX_VAR_15  \n",
       "0        3.584775      50.214231      0.000000e+00         0.000160  \n",
       "1      136.891059            inf      1.232595e-32         0.000846  \n",
       "2       41.244861            inf      4.930381e-32         0.001510  \n",
       "3      383.185064            inf      6.073545e-02         0.026636  \n",
       "4       20.353845     364.768541      0.000000e+00         0.001584  \n",
       "...           ...            ...               ...              ...  \n",
       "89564   84.793754            inf      1.232595e-32         0.000560  \n",
       "89565  106.495318       0.081184      1.232595e-32         0.000345  \n",
       "89566   43.819613            inf      1.232595e-32         0.000131  \n",
       "89567   50.392906            inf      0.000000e+00         0.000131  \n",
       "89568   42.396246            inf      0.000000e+00         0.000169  \n",
       "\n",
       "[87113 rows x 496 columns]"
      ]
     },
     "execution_count": 121,
     "metadata": {},
     "output_type": "execute_result"
    }
   ],
   "source": [
    "train_mean_var_s2"
   ]
  },
  {
   "cell_type": "markdown",
   "id": "345d5725",
   "metadata": {},
   "source": [
    "### Test"
   ]
  },
  {
   "cell_type": "code",
   "execution_count": 8,
   "id": "6f3d6483",
   "metadata": {},
   "outputs": [],
   "source": [
    "assets_test_df = assets_test_df = pd.read_csv('data/assets_test.csv')\n",
    "tiles_test = tilu.read_tile_geojson('data/tiles_test.geojson')\n",
    "fields_test = gpd.read_file('data/fields_test.geojson')"
   ]
  },
  {
   "cell_type": "code",
   "execution_count": 9,
   "id": "79033d54",
   "metadata": {},
   "outputs": [],
   "source": [
    "assets_s2_stacked_16days_test = pd.read_csv('data/assets_s2_stacked_16days_test.csv', index_col = 0)\n",
    "assets_s1_stacked_16days_test = pd.read_csv('data/assets_s1_stacked_16days_test.csv', index_col = 0)"
   ]
  },
  {
   "cell_type": "code",
   "execution_count": 17,
   "id": "2bde004b",
   "metadata": {},
   "outputs": [],
   "source": [
    "test_mean_var_s2 = crul.create_mean_var(assets_test_df, assets_s2_stacked_16days_test, fields_test, tiles_test, \"s2\")\n",
    "test_mean_var_s2.to_csv('data/mean_var_s2_16days_test.csv', index=False)"
   ]
  },
  {
   "cell_type": "code",
   "execution_count": 114,
   "id": "665fec39",
   "metadata": {},
   "outputs": [],
   "source": [
    "train_mean_var_s2.to_csv('data/mean_var_s2_16days_train.csv', index=False)"
   ]
  },
  {
   "cell_type": "code",
   "execution_count": 10,
   "id": "27fcd44c",
   "metadata": {},
   "outputs": [
    {
     "name": "stdout",
     "output_type": "stream",
     "text": [
      "Tile Nr. 1137 of 1137\n",
      "947\n"
     ]
    }
   ],
   "source": [
    "test_mean_var_s1 = crul.create_mean_var(assets_test_df, assets_s1_stacked_16days_test, fields_test, tiles_test, \"s1\")\n",
    "test_mean_var_s1.to_csv('data/mean_var_s1_16days_test.csv', index=False)"
   ]
  },
  {
   "cell_type": "code",
   "execution_count": 114,
   "id": "3ce9ca03",
   "metadata": {},
   "outputs": [],
   "source": [
    "train_mean_var_s1.to_csv('data/mean_var_s1_16days_train.csv', index=False)"
   ]
  },
  {
   "cell_type": "code",
   "execution_count": 307,
   "id": "8bc262ed",
   "metadata": {},
   "outputs": [],
   "source": [
    "test_mean_var = crul.create_mean_var(assets_test_df, assets_stacked_16days_test, fields_test, tiles_test)\n",
    "test_mean_var.to_csv('data/mean_var_8days_test.csv', index=False)"
   ]
  },
  {
   "cell_type": "code",
   "execution_count": null,
   "id": "16cb0aaf",
   "metadata": {},
   "outputs": [],
   "source": []
  }
 ],
 "metadata": {
  "environment": {
   "name": "tf2-gpu.2-5.m75",
   "type": "gcloud",
   "uri": "gcr.io/deeplearning-platform-release/tf2-gpu.2-5:m75"
  },
  "kernelspec": {
   "display_name": "Python 3",
   "language": "python",
   "name": "python3"
  },
  "language_info": {
   "codemirror_mode": {
    "name": "ipython",
    "version": 3
   },
   "file_extension": ".py",
   "mimetype": "text/x-python",
   "name": "python",
   "nbconvert_exporter": "python",
   "pygments_lexer": "ipython3",
   "version": "3.7.10"
  }
 },
 "nbformat": 4,
 "nbformat_minor": 5
}
